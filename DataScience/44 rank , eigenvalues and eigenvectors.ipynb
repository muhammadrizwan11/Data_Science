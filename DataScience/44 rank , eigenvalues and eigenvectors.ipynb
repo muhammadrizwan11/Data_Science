{
 "cells": [
  {
   "cell_type": "markdown",
   "id": "54277b63",
   "metadata": {},
   "source": [
    "### Create a 2x3 matrix\n",
    "\n",
    "### Create a 1D array (vector)\n",
    "\n",
    "### Compute the determinant of a matrix\n",
    "\n",
    "### system of linear equations Ax = b\n",
    "\n",
    "### eigenvalues and eigenvectors\n",
    "\n",
    "### Compute the rank of a matrix"
   ]
  },
  {
   "cell_type": "code",
   "execution_count": 5,
   "id": "93a0b754",
   "metadata": {},
   "outputs": [
    {
     "name": "stdout",
     "output_type": "stream",
     "text": [
      "Matrix:\n",
      "[[1 2 3]\n",
      " [4 5 6]]\n",
      "Vector:\n",
      "[7 8 9]\n"
     ]
    }
   ],
   "source": [
    "\n",
    "import numpy as np\n",
    "\n",
    "# Create a 2x3 matrix\n",
    "matrix = np.array([[1, 2, 3], [4, 5, 6]])\n",
    "\n",
    "# Create a 1D array (vector)\n",
    "vector = np.array([7, 8, 9])\n",
    "\n",
    "print(\"Matrix:\")\n",
    "print(matrix)\n",
    "print(\"Vector:\")\n",
    "print(vector)"
   ]
  },
  {
   "cell_type": "code",
   "execution_count": 7,
   "id": "9b4b5e97",
   "metadata": {},
   "outputs": [
    {
     "name": "stdout",
     "output_type": "stream",
     "text": [
      "[[ 0  1  2  3  4]\n",
      " [ 5  6  7  8  9]\n",
      " [10 11 12 13 14]\n",
      " [15 16 17 18 19]\n",
      " [20 21 22 23 24]]\n",
      "0.0\n"
     ]
    }
   ],
   "source": [
    "# Compute the determinant of a matrix using np.linalg.det()\n",
    "a  = np.arange(25).reshape(5,5)\n",
    "print(a)\n",
    "det = np.linalg.det(a)\n",
    "print(det)"
   ]
  },
  {
   "cell_type": "code",
   "execution_count": 8,
   "id": "d43fd5d4",
   "metadata": {},
   "outputs": [
    {
     "name": "stdout",
     "output_type": "stream",
     "text": [
      "eigenvalues\n",
      "[ 6.39116499e+01 -3.91164992e+00  3.19626490e-15 -1.64396509e-15\n",
      "  8.90756696e-17]\n",
      "eigenvectors\n",
      "[[-0.0851802   0.67779864  0.06945307 -0.39148436 -0.10985832]\n",
      " [-0.23825372  0.36348873  0.44032228  0.290592   -0.03338055]\n",
      " [-0.39132723  0.04917881 -0.57200489  0.01857127  0.63352165]\n",
      " [-0.54440074 -0.2651311  -0.45476933  0.6570189  -0.72746836]\n",
      " [-0.69747425 -0.57944101  0.51699887 -0.5746978   0.23718558]]\n"
     ]
    }
   ],
   "source": [
    "# Compute eigenvalues and eigenvectors using np.linalg.eig()\n",
    "eigenvalues ,  eigenvectors =  np.linalg.eig(a)\n",
    "print('eigenvalues')\n",
    "print(eigenvalues)\n",
    "print('eigenvectors')\n",
    "print(eigenvectors)"
   ]
  },
  {
   "cell_type": "code",
   "execution_count": 10,
   "id": "07384db0",
   "metadata": {},
   "outputs": [
    {
     "name": "stdout",
     "output_type": "stream",
     "text": [
      "[0.66666667 0.5       ]\n"
     ]
    }
   ],
   "source": [
    "# Solving a system of linear equations Ax = b\n",
    "A = np.array([[6,2],[3,8]])\n",
    "B = np.array([5,6])\n",
    "C = np.linalg.solve(A,B)\n",
    "print(C)"
   ]
  },
  {
   "cell_type": "code",
   "execution_count": 12,
   "id": "96ceeaa9",
   "metadata": {},
   "outputs": [
    {
     "name": "stdout",
     "output_type": "stream",
     "text": [
      "2\n"
     ]
    }
   ],
   "source": [
    "# Compute the rank of a matrix using np.linalg.matrix_rank()\n",
    "a\n",
    "rank = np.linalg.matrix_rank(a)\n",
    "print(rank)"
   ]
  },
  {
   "cell_type": "code",
   "execution_count": null,
   "id": "0bcc8805",
   "metadata": {},
   "outputs": [],
   "source": []
  }
 ],
 "metadata": {
  "kernelspec": {
   "display_name": "Python 3 (ipykernel)",
   "language": "python",
   "name": "python3"
  },
  "language_info": {
   "codemirror_mode": {
    "name": "ipython",
    "version": 3
   },
   "file_extension": ".py",
   "mimetype": "text/x-python",
   "name": "python",
   "nbconvert_exporter": "python",
   "pygments_lexer": "ipython3",
   "version": "3.10.9"
  }
 },
 "nbformat": 4,
 "nbformat_minor": 5
}
