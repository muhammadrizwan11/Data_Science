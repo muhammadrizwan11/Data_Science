{
 "cells": [
  {
   "cell_type": "markdown",
   "id": "be5e1e68",
   "metadata": {},
   "source": [
    "# NumPy - Indexing & Slicing"
   ]
  },
  {
   "cell_type": "code",
   "execution_count": null,
   "id": "1f344ebc",
   "metadata": {},
   "outputs": [],
   "source": [
    "import numpy as np\n",
    "a = np.array([4,6,8,7,5,9,6,8,3,5])\n",
    "b = slice(0,7,2)\n",
    "a[b]"
   ]
  },
  {
   "cell_type": "code",
   "execution_count": null,
   "id": "5abe7403",
   "metadata": {},
   "outputs": [],
   "source": [
    "a = np.array([4,6,8,7,5,9,6,8,3,5])\n",
    "a[0:7:2]"
   ]
  },
  {
   "cell_type": "code",
   "execution_count": null,
   "id": "7f4f1cad",
   "metadata": {},
   "outputs": [],
   "source": [
    "slice single item"
   ]
  },
  {
   "cell_type": "code",
   "execution_count": null,
   "id": "ed611cae",
   "metadata": {},
   "outputs": [],
   "source": [
    "x = np.array([1,2,3,4,5,6,7,8])\n",
    "x[4]"
   ]
  },
  {
   "cell_type": "code",
   "execution_count": null,
   "id": "c0fe6739",
   "metadata": {},
   "outputs": [],
   "source": [
    "slice items starting from index"
   ]
  },
  {
   "cell_type": "code",
   "execution_count": null,
   "id": "76d41038",
   "metadata": {},
   "outputs": [],
   "source": [
    "x = np.array([1,2,3,4,5,6,7,8])\n",
    "x[4:]"
   ]
  }
 ],
 "metadata": {
  "kernelspec": {
   "display_name": "Python 3 (ipykernel)",
   "language": "python",
   "name": "python3"
  },
  "language_info": {
   "codemirror_mode": {
    "name": "ipython",
    "version": 3
   },
   "file_extension": ".py",
   "mimetype": "text/x-python",
   "name": "python",
   "nbconvert_exporter": "python",
   "pygments_lexer": "ipython3",
   "version": "3.10.9"
  }
 },
 "nbformat": 4,
 "nbformat_minor": 5
}
