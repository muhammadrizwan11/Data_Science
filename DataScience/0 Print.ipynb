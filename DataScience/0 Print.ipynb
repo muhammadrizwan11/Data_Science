{
 "cells": [
  {
   "cell_type": "markdown",
   "id": "85d2da39",
   "metadata": {},
   "source": [
    "# print"
   ]
  },
  {
   "cell_type": "code",
   "execution_count": 1,
   "id": "c76950e4",
   "metadata": {},
   "outputs": [
    {
     "name": "stdout",
     "output_type": "stream",
     "text": [
      "hellow python \n"
     ]
    }
   ],
   "source": [
    "print('hellow python ')"
   ]
  },
  {
   "cell_type": "code",
   "execution_count": 3,
   "id": "2bbc084d",
   "metadata": {},
   "outputs": [
    {
     "name": "stdout",
     "output_type": "stream",
     "text": [
      "hellow python\n"
     ]
    }
   ],
   "source": [
    "print(\"hellow python\" )"
   ]
  },
  {
   "cell_type": "code",
   "execution_count": 4,
   "id": "443d0b90",
   "metadata": {},
   "outputs": [
    {
     "name": "stdout",
     "output_type": "stream",
     "text": [
      "hellow python at my channnel\n"
     ]
    }
   ],
   "source": [
    "print(\"hellow python\",\"at my channnel\" )"
   ]
  },
  {
   "cell_type": "code",
   "execution_count": 5,
   "id": "510bb97b",
   "metadata": {},
   "outputs": [
    {
     "name": "stdout",
     "output_type": "stream",
     "text": [
      "99\n"
     ]
    }
   ],
   "source": [
    "print(99)"
   ]
  },
  {
   "cell_type": "code",
   "execution_count": 6,
   "id": "8e1a9c9d",
   "metadata": {},
   "outputs": [
    {
     "name": "stdout",
     "output_type": "stream",
     "text": [
      "hellow python at my channnel 66\n"
     ]
    }
   ],
   "source": [
    "print(\"hellow python\",\"at my channnel\",66 )"
   ]
  },
  {
   "cell_type": "code",
   "execution_count": 7,
   "id": "5a5b2ee9",
   "metadata": {},
   "outputs": [
    {
     "name": "stdout",
     "output_type": "stream",
     "text": [
      "True\n"
     ]
    }
   ],
   "source": [
    "print(10>5)"
   ]
  },
  {
   "cell_type": "code",
   "execution_count": 8,
   "id": "3a698636",
   "metadata": {},
   "outputs": [
    {
     "name": "stdout",
     "output_type": "stream",
     "text": [
      "False\n"
     ]
    }
   ],
   "source": [
    "print(10<5)"
   ]
  },
  {
   "cell_type": "markdown",
   "id": "94e2f7f1",
   "metadata": {},
   "source": [
    "Print a tuple:\n",
    "x = (\"apple\", \"banana\", \"cherry\")"
   ]
  },
  {
   "cell_type": "code",
   "execution_count": 9,
   "id": "0d6ede6f",
   "metadata": {},
   "outputs": [
    {
     "name": "stdout",
     "output_type": "stream",
     "text": [
      "('apple', 'banana', 'cherry')\n"
     ]
    }
   ],
   "source": [
    "x = (\"apple\", \"banana\", \"cherry\")\n",
    "print(x)"
   ]
  },
  {
   "cell_type": "code",
   "execution_count": null,
   "id": "96e591bd",
   "metadata": {},
   "outputs": [],
   "source": []
  }
 ],
 "metadata": {
  "kernelspec": {
   "display_name": "Python 3 (ipykernel)",
   "language": "python",
   "name": "python3"
  },
  "language_info": {
   "codemirror_mode": {
    "name": "ipython",
    "version": 3
   },
   "file_extension": ".py",
   "mimetype": "text/x-python",
   "name": "python",
   "nbconvert_exporter": "python",
   "pygments_lexer": "ipython3",
   "version": "3.10.0"
  }
 },
 "nbformat": 4,
 "nbformat_minor": 5
}
