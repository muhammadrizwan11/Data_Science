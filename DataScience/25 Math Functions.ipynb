{
 "cells": [
  {
   "cell_type": "markdown",
   "id": "78a288dc",
   "metadata": {},
   "source": [
    "# Array Operations"
   ]
  },
  {
   "cell_type": "markdown",
   "id": "0db3dd52",
   "metadata": {},
   "source": [
    "# sum"
   ]
  },
  {
   "cell_type": "code",
   "execution_count": 1,
   "id": "c71553e4",
   "metadata": {},
   "outputs": [
    {
     "name": "stdout",
     "output_type": "stream",
     "text": [
      "21\n"
     ]
    }
   ],
   "source": [
    "import numpy as np\n",
    "a = np.array([1,2,3,4,5,6])\n",
    "print(np.sum(a))"
   ]
  },
  {
   "cell_type": "code",
   "execution_count": null,
   "id": "a1d3aede",
   "metadata": {},
   "outputs": [],
   "source": []
  },
  {
   "cell_type": "markdown",
   "id": "e1bbfb3f",
   "metadata": {},
   "source": [
    "# Min\n",
    "Return the minimum value from the array."
   ]
  },
  {
   "cell_type": "code",
   "execution_count": 2,
   "id": "e338809a",
   "metadata": {},
   "outputs": [
    {
     "name": "stdout",
     "output_type": "stream",
     "text": [
      "2\n"
     ]
    }
   ],
   "source": [
    "a1 = np.array([3,4,7,2,5,3,6])\n",
    "print(np.min(a1))"
   ]
  },
  {
   "cell_type": "markdown",
   "id": "cde842c9",
   "metadata": {},
   "source": [
    "# Max\n",
    "Return the maximum value from the array."
   ]
  },
  {
   "cell_type": "code",
   "execution_count": 4,
   "id": "7f8568b5",
   "metadata": {},
   "outputs": [
    {
     "name": "stdout",
     "output_type": "stream",
     "text": [
      "2\n",
      "7\n"
     ]
    }
   ],
   "source": [
    "a1 = np.array([3,4,7,2,5,3,6])\n",
    "print(np.min(a1))\n",
    "print(np.max(a1))"
   ]
  },
  {
   "cell_type": "markdown",
   "id": "83e50391",
   "metadata": {},
   "source": [
    "# argmin\n",
    "return the position of particular element"
   ]
  },
  {
   "cell_type": "code",
   "execution_count": 7,
   "id": "ca2cbc05",
   "metadata": {},
   "outputs": [
    {
     "name": "stdout",
     "output_type": "stream",
     "text": [
      "2 3\n",
      "7 2\n"
     ]
    }
   ],
   "source": [
    "a1 = np.array([3,4,7,2,5,3,6])\n",
    "print(np.min(a1),np.argmin(a1))\n",
    "print(np.max(a1),np.argmax(a1))"
   ]
  },
  {
   "cell_type": "markdown",
   "id": "328864a3",
   "metadata": {},
   "source": [
    "# sqrt\n",
    "return sqrt of array"
   ]
  },
  {
   "cell_type": "code",
   "execution_count": 9,
   "id": "2c23190c",
   "metadata": {},
   "outputs": [
    {
     "name": "stdout",
     "output_type": "stream",
     "text": [
      "[0 1 2 3 4 5]\n",
      "[0.         1.         1.41421356 1.73205081 2.         2.23606798]\n"
     ]
    }
   ],
   "source": [
    "a2 = np.arange(6)\n",
    "print(a2)\n",
    "print(np.sqrt(a2))"
   ]
  },
  {
   "cell_type": "code",
   "execution_count": null,
   "id": "5e6fcc3b",
   "metadata": {},
   "outputs": [],
   "source": []
  },
  {
   "cell_type": "code",
   "execution_count": null,
   "id": "7f88826c",
   "metadata": {},
   "outputs": [],
   "source": []
  },
  {
   "cell_type": "markdown",
   "id": "852ab0dc",
   "metadata": {},
   "source": [
    "# sin\n",
    "return sin value of array"
   ]
  },
  {
   "cell_type": "code",
   "execution_count": 11,
   "id": "907d2bda",
   "metadata": {},
   "outputs": [
    {
     "data": {
      "text/plain": [
       "array([ 0.        ,  0.84147098,  0.90929743,  0.14112001, -0.7568025 ,\n",
       "       -0.95892427])"
      ]
     },
     "execution_count": 11,
     "metadata": {},
     "output_type": "execute_result"
    }
   ],
   "source": [
    "np.sin(a2)"
   ]
  },
  {
   "cell_type": "markdown",
   "id": "c83cce7c",
   "metadata": {},
   "source": [
    "# cos \n",
    "return cos value of array"
   ]
  },
  {
   "cell_type": "code",
   "execution_count": 12,
   "id": "56245132",
   "metadata": {},
   "outputs": [
    {
     "name": "stdout",
     "output_type": "stream",
     "text": [
      "[ 0.54030231 -0.41614684 -0.9899925  -0.65364362  0.28366219  0.96017029]\n"
     ]
    }
   ],
   "source": [
    "a = np.array([1,2,3,4,5,6])\n",
    "print(np.cos(a))"
   ]
  },
  {
   "cell_type": "markdown",
   "id": "059eb687",
   "metadata": {},
   "source": [
    "# cumsum"
   ]
  },
  {
   "cell_type": "code",
   "execution_count": 16,
   "id": "6832feae",
   "metadata": {},
   "outputs": [
    {
     "name": "stdout",
     "output_type": "stream",
     "text": [
      "[ 1  3  6 10]\n"
     ]
    }
   ],
   "source": [
    "n = np.array([1,2,3,4])\n",
    "print(np.cumsum(n))"
   ]
  },
  {
   "cell_type": "code",
   "execution_count": 14,
   "id": "e59d28d8",
   "metadata": {},
   "outputs": [
    {
     "data": {
      "text/plain": [
       "6"
      ]
     },
     "execution_count": 14,
     "metadata": {},
     "output_type": "execute_result"
    }
   ],
   "source": [
    "3+3"
   ]
  },
  {
   "cell_type": "code",
   "execution_count": null,
   "id": "f2479197",
   "metadata": {},
   "outputs": [],
   "source": []
  }
 ],
 "metadata": {
  "kernelspec": {
   "display_name": "Python 3 (ipykernel)",
   "language": "python",
   "name": "python3"
  },
  "language_info": {
   "codemirror_mode": {
    "name": "ipython",
    "version": 3
   },
   "file_extension": ".py",
   "mimetype": "text/x-python",
   "name": "python",
   "nbconvert_exporter": "python",
   "pygments_lexer": "ipython3",
   "version": "3.10.9"
  }
 },
 "nbformat": 4,
 "nbformat_minor": 5
}
