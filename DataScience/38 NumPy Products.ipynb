{
 "cells": [
  {
   "cell_type": "markdown",
   "id": "d2eeafbe",
   "metadata": {},
   "source": [
    "# NumPy Products\n",
    "To find the product of the elements in an array, use the prod() function."
   ]
  },
  {
   "cell_type": "code",
   "execution_count": 1,
   "id": "fd6d3e35",
   "metadata": {},
   "outputs": [],
   "source": [
    "import numpy as np"
   ]
  },
  {
   "cell_type": "code",
   "execution_count": 2,
   "id": "8709f829",
   "metadata": {},
   "outputs": [
    {
     "name": "stdout",
     "output_type": "stream",
     "text": [
      "24\n"
     ]
    }
   ],
   "source": [
    "a = np.array([1,2,3,4])\n",
    "b = np.prod(a)\n",
    "print(b)"
   ]
  },
  {
   "cell_type": "code",
   "execution_count": 3,
   "id": "2fba65c5",
   "metadata": {},
   "outputs": [
    {
     "data": {
      "text/plain": [
       "24"
      ]
     },
     "execution_count": 3,
     "metadata": {},
     "output_type": "execute_result"
    }
   ],
   "source": [
    "1*2*3*4"
   ]
  },
  {
   "cell_type": "code",
   "execution_count": 5,
   "id": "4cfe716a",
   "metadata": {},
   "outputs": [
    {
     "name": "stdout",
     "output_type": "stream",
     "text": [
      "720\n"
     ]
    }
   ],
   "source": [
    "a1 = np.array([1,2,3])\n",
    "b1 = np.array([4,5,6])\n",
    "c = np.prod([a1,b1])\n",
    "print(c)"
   ]
  },
  {
   "cell_type": "markdown",
   "id": "debf0a61",
   "metadata": {},
   "source": [
    "# Product Over an Axis\n",
    "If you specify axis=1, NumPy will return the product of each array."
   ]
  },
  {
   "cell_type": "code",
   "execution_count": 6,
   "id": "195f9e0f",
   "metadata": {},
   "outputs": [
    {
     "name": "stdout",
     "output_type": "stream",
     "text": [
      "[  6 120]\n"
     ]
    }
   ],
   "source": [
    "a2 = np.array([1,2,3])\n",
    "b2 = np.array([4,5,6])\n",
    "c1 = np.prod([a1,b1],axis = 1)\n",
    "print(c1)"
   ]
  },
  {
   "cell_type": "code",
   "execution_count": null,
   "id": "25715fd0",
   "metadata": {},
   "outputs": [],
   "source": []
  },
  {
   "cell_type": "code",
   "execution_count": null,
   "id": "62e4790b",
   "metadata": {},
   "outputs": [],
   "source": []
  },
  {
   "cell_type": "markdown",
   "id": "f280541a",
   "metadata": {},
   "source": [
    "# Cummulative Product\n",
    "Cummulative product means taking the product partially.\n",
    "\n",
    "E.g. The partial product of [1, 2, 3, 4] is [1, 1*2, 1*2*3, 1*2*3*4] = [1, 2, 6, 24]\n",
    "\n",
    "Perfom partial sum with the cumprod() function."
   ]
  },
  {
   "cell_type": "code",
   "execution_count": 7,
   "id": "1a876249",
   "metadata": {},
   "outputs": [
    {
     "name": "stdout",
     "output_type": "stream",
     "text": [
      "[ 1  2  6 24]\n"
     ]
    }
   ],
   "source": [
    "a = np.array([1,2,3,4])\n",
    "print(np.cumprod(a))"
   ]
  },
  {
   "cell_type": "code",
   "execution_count": 8,
   "id": "55dbc772",
   "metadata": {},
   "outputs": [
    {
     "data": {
      "text/plain": [
       "(1, 2, 6, 24)"
      ]
     },
     "execution_count": 8,
     "metadata": {},
     "output_type": "execute_result"
    }
   ],
   "source": [
    "[1,2,3,4]\n",
    "1 , 1*2 , 1*2*3 , 1*2*3*4"
   ]
  },
  {
   "cell_type": "code",
   "execution_count": null,
   "id": "27051451",
   "metadata": {},
   "outputs": [],
   "source": []
  }
 ],
 "metadata": {
  "kernelspec": {
   "display_name": "Python 3 (ipykernel)",
   "language": "python",
   "name": "python3"
  },
  "language_info": {
   "codemirror_mode": {
    "name": "ipython",
    "version": 3
   },
   "file_extension": ".py",
   "mimetype": "text/x-python",
   "name": "python",
   "nbconvert_exporter": "python",
   "pygments_lexer": "ipython3",
   "version": "3.10.9"
  }
 },
 "nbformat": 4,
 "nbformat_minor": 5
}
