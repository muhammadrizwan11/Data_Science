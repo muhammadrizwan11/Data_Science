{
 "cells": [
  {
   "cell_type": "markdown",
   "id": "ee1b80d9",
   "metadata": {},
   "source": [
    "# insert"
   ]
  },
  {
   "cell_type": "code",
   "execution_count": 1,
   "id": "ae143914",
   "metadata": {},
   "outputs": [],
   "source": [
    "import numpy as np"
   ]
  },
  {
   "cell_type": "code",
   "execution_count": 5,
   "id": "97e2425d",
   "metadata": {},
   "outputs": [
    {
     "name": "stdout",
     "output_type": "stream",
     "text": [
      "[1 2 3 4 5]\n",
      "\n",
      "[22  1  2  3 44  4  5]\n"
     ]
    }
   ],
   "source": [
    "a  = np.array([1,2,3,4,5])\n",
    "print(a)\n",
    "print()\n",
    "b = np.insert(a , (0,3) , (22,44))\n",
    "print(b)"
   ]
  },
  {
   "cell_type": "code",
   "execution_count": 11,
   "id": "2abb1bef",
   "metadata": {},
   "outputs": [
    {
     "name": "stdout",
     "output_type": "stream",
     "text": [
      "[[1 2 3 4]\n",
      " [5 6 7 8]]\n"
     ]
    }
   ],
   "source": [
    "c = np.array([[1,2,3,4],[5,6,7,8]])\n",
    "print(c)"
   ]
  },
  {
   "cell_type": "code",
   "execution_count": 22,
   "id": "3aa137d4",
   "metadata": {},
   "outputs": [
    {
     "name": "stdout",
     "output_type": "stream",
     "text": [
      "[[ 0  1  2  3]\n",
      " [ 4  5  6  7]\n",
      " [ 8  9 10 11]]\n",
      "\n",
      "[33  0  1  2  3  4  5  6  7  8  9 10 11]\n",
      "\n",
      "[[ 0  1 99  2  3]\n",
      " [ 4  5 99  6  7]\n",
      " [ 8  9 99 10 11]]\n",
      "\n",
      "[[ 0  1  2  3]\n",
      " [ 4  5  6  7]\n",
      " [88 77 66 55]\n",
      " [ 8  9 10 11]]\n"
     ]
    }
   ],
   "source": [
    "c1 = np.arange(12).reshape(3,4)\n",
    "print(c1)\n",
    "print()\n",
    "x = np.insert(c1 , 0 , 33)\n",
    "print(x)\n",
    "print()\n",
    "x1 = np.insert(c1 , 2 , 99, axis= 1 )\n",
    "print(x1)\n",
    "print()\n",
    "x2 = np.insert(c1 , 2 , ([88,77,66,55]), axis= 0 )\n",
    "print(x2)"
   ]
  },
  {
   "cell_type": "markdown",
   "id": "acb6657a",
   "metadata": {},
   "source": [
    "# delete"
   ]
  },
  {
   "cell_type": "code",
   "execution_count": 26,
   "id": "f6ce63ce",
   "metadata": {},
   "outputs": [
    {
     "name": "stdout",
     "output_type": "stream",
     "text": [
      "[1 2 3 4 5]\n",
      "[1 2 3 5]\n"
     ]
    }
   ],
   "source": [
    "a  = np.array([1,2,3,4,5])\n",
    "print(a)\n",
    "b = np.delete(a,3)\n",
    "print(b)\n"
   ]
  },
  {
   "cell_type": "code",
   "execution_count": 33,
   "id": "5ae9cdff",
   "metadata": {},
   "outputs": [
    {
     "name": "stdout",
     "output_type": "stream",
     "text": [
      "[[1 2 3 4]\n",
      " [5 6 7 8]\n",
      " [3 5 7 9]]\n",
      "\n",
      "[2 3 4 5 6 7 8 3 5 7 9]\n",
      "\n",
      "[[1 3 4]\n",
      " [5 7 8]\n",
      " [3 7 9]]\n",
      "\n",
      "[[1 2 3 4]\n",
      " [3 5 7 9]]\n"
     ]
    }
   ],
   "source": [
    "c = np.array([[1,2,3,4],[5,6,7,8],[3,5,7,9]])\n",
    "print(c)\n",
    "print()\n",
    "y = np.delete(c , 0)\n",
    "print(y)\n",
    "y1 = np.delete(c , 1 , axis  = 1)\n",
    "print()\n",
    "print(y1)\n",
    "\n",
    "y2 = np.delete(c , 1 , axis  = 0)\n",
    "print()\n",
    "print(y2)"
   ]
  },
  {
   "cell_type": "code",
   "execution_count": null,
   "id": "470491b6",
   "metadata": {},
   "outputs": [],
   "source": []
  }
 ],
 "metadata": {
  "kernelspec": {
   "display_name": "Python 3 (ipykernel)",
   "language": "python",
   "name": "python3"
  },
  "language_info": {
   "codemirror_mode": {
    "name": "ipython",
    "version": 3
   },
   "file_extension": ".py",
   "mimetype": "text/x-python",
   "name": "python",
   "nbconvert_exporter": "python",
   "pygments_lexer": "ipython3",
   "version": "3.10.9"
  }
 },
 "nbformat": 4,
 "nbformat_minor": 5
}
