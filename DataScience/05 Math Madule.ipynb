{
 "cells": [
  {
   "cell_type": "markdown",
   "id": "f3ce1b97",
   "metadata": {},
   "source": [
    "# Python math Module\n",
    "Python has a built-in module that you can use for mathematical tasks.\n",
    "\n",
    "The math module has a set of methods and constants."
   ]
  },
  {
   "cell_type": "markdown",
   "id": "d9fe35b0",
   "metadata": {},
   "source": [
    "# Python math Functions\n",
    "The list of Python mathematical Functions is available in the math Library"
   ]
  },
  {
   "cell_type": "code",
   "execution_count": null,
   "id": "8864962e",
   "metadata": {},
   "outputs": [],
   "source": [
    "\n"
   ]
  },
  {
   "cell_type": "markdown",
   "id": "ae04991c",
   "metadata": {},
   "source": [
    "### math.ceil()\t\n",
    "Rounds a number up to the nearest integer"
   ]
  },
  {
   "cell_type": "code",
   "execution_count": 6,
   "id": "1ed633c4",
   "metadata": {},
   "outputs": [
    {
     "data": {
      "text/plain": [
       "12"
      ]
     },
     "execution_count": 6,
     "metadata": {},
     "output_type": "execute_result"
    }
   ],
   "source": [
    "x = 11.22\n",
    "import math\n",
    "math.ceil(x)"
   ]
  },
  {
   "cell_type": "markdown",
   "id": "ffc2d3e4",
   "metadata": {},
   "source": [
    "### math.floor()\t\n",
    "Rounds a number down to the nearest integer"
   ]
  },
  {
   "cell_type": "code",
   "execution_count": 7,
   "id": "8b59107e",
   "metadata": {},
   "outputs": [
    {
     "data": {
      "text/plain": [
       "12"
      ]
     },
     "execution_count": 7,
     "metadata": {},
     "output_type": "execute_result"
    }
   ],
   "source": [
    "x = 12.4\n",
    "math.floor(x)"
   ]
  },
  {
   "cell_type": "code",
   "execution_count": null,
   "id": "b2f8d5aa",
   "metadata": {},
   "outputs": [],
   "source": []
  },
  {
   "cell_type": "markdown",
   "id": "33dd2bdc",
   "metadata": {},
   "source": [
    "### math.cos()\n",
    "Returns the cosine of a number"
   ]
  },
  {
   "cell_type": "code",
   "execution_count": 8,
   "id": "3b9ff010",
   "metadata": {},
   "outputs": [
    {
     "data": {
      "text/plain": [
       "0.15425144988758405"
      ]
     },
     "execution_count": 8,
     "metadata": {},
     "output_type": "execute_result"
    }
   ],
   "source": [
    "math.cos(30)"
   ]
  },
  {
   "cell_type": "markdown",
   "id": "f209f2fe",
   "metadata": {},
   "source": [
    "### math.exp()\t\n",
    "Returns E raised to the power of x"
   ]
  },
  {
   "cell_type": "code",
   "execution_count": 11,
   "id": "0d63f620",
   "metadata": {},
   "outputs": [
    {
     "data": {
      "text/plain": [
       "20.085536923187668"
      ]
     },
     "execution_count": 11,
     "metadata": {},
     "output_type": "execute_result"
    }
   ],
   "source": [
    "math.exp(3)"
   ]
  },
  {
   "cell_type": "markdown",
   "id": "c8d7eef1",
   "metadata": {},
   "source": [
    "### math.fabs()\n",
    "Returns the absolute value of a number"
   ]
  },
  {
   "cell_type": "code",
   "execution_count": 12,
   "id": "2cc4b125",
   "metadata": {},
   "outputs": [
    {
     "data": {
      "text/plain": [
       "4.5399929762484854e-05"
      ]
     },
     "execution_count": 12,
     "metadata": {},
     "output_type": "execute_result"
    }
   ],
   "source": [
    "math.exp(-10)"
   ]
  },
  {
   "cell_type": "markdown",
   "id": "343434b8",
   "metadata": {},
   "source": [
    "### math.factorial()\t\n",
    "Returns the factorial of a number"
   ]
  },
  {
   "cell_type": "code",
   "execution_count": 13,
   "id": "4cf5b0f9",
   "metadata": {},
   "outputs": [
    {
     "data": {
      "text/plain": [
       "24"
      ]
     },
     "execution_count": 13,
     "metadata": {},
     "output_type": "execute_result"
    }
   ],
   "source": [
    "math.factorial(4)"
   ]
  },
  {
   "cell_type": "code",
   "execution_count": 14,
   "id": "0fb65615",
   "metadata": {},
   "outputs": [
    {
     "data": {
      "text/plain": [
       "24"
      ]
     },
     "execution_count": 14,
     "metadata": {},
     "output_type": "execute_result"
    }
   ],
   "source": [
    "4*3*2*1"
   ]
  },
  {
   "cell_type": "markdown",
   "id": "0b088ca4",
   "metadata": {},
   "source": [
    "### math.fmod()\t\n",
    "Returns the remainder of x/y"
   ]
  },
  {
   "cell_type": "code",
   "execution_count": 16,
   "id": "f6d8b149",
   "metadata": {},
   "outputs": [
    {
     "data": {
      "text/plain": [
       "1.0"
      ]
     },
     "execution_count": 16,
     "metadata": {},
     "output_type": "execute_result"
    }
   ],
   "source": [
    "x = 5\n",
    "y = 2\n",
    "math.fmod(x,y)"
   ]
  },
  {
   "cell_type": "markdown",
   "id": "68490afc",
   "metadata": {},
   "source": [
    "### math.fsum()\t\n",
    "Returns the sum of all items in any iterable (tuples, arrays, lists, etc.)"
   ]
  },
  {
   "cell_type": "code",
   "execution_count": 17,
   "id": "a1546657",
   "metadata": {},
   "outputs": [
    {
     "data": {
      "text/plain": [
       "23.0"
      ]
     },
     "execution_count": 17,
     "metadata": {},
     "output_type": "execute_result"
    }
   ],
   "source": [
    "l = [2,4,5,7,4,1]\n",
    "math.fsum(l)"
   ]
  },
  {
   "cell_type": "markdown",
   "id": "5f57efac",
   "metadata": {},
   "source": [
    "### math.log()\t\n",
    "Returns the natural logarithm of a number, or the logarithm of number to base"
   ]
  },
  {
   "cell_type": "code",
   "execution_count": 19,
   "id": "eedc46a0",
   "metadata": {},
   "outputs": [
    {
     "data": {
      "text/plain": [
       "5.19295685089021"
      ]
     },
     "execution_count": 19,
     "metadata": {},
     "output_type": "execute_result"
    }
   ],
   "source": [
    "math.log(180)"
   ]
  },
  {
   "cell_type": "markdown",
   "id": "761af846",
   "metadata": {},
   "source": [
    "### math.pow()\t\n",
    "Returns the value of x to the power of y"
   ]
  },
  {
   "cell_type": "code",
   "execution_count": 21,
   "id": "b3fcd40b",
   "metadata": {},
   "outputs": [
    {
     "data": {
      "text/plain": [
       "16.0"
      ]
     },
     "execution_count": 21,
     "metadata": {},
     "output_type": "execute_result"
    }
   ],
   "source": [
    "math.pow(2,4)"
   ]
  },
  {
   "cell_type": "code",
   "execution_count": 22,
   "id": "b2fca011",
   "metadata": {},
   "outputs": [
    {
     "data": {
      "text/plain": [
       "16"
      ]
     },
     "execution_count": 22,
     "metadata": {},
     "output_type": "execute_result"
    }
   ],
   "source": [
    "2*2*2*2"
   ]
  },
  {
   "cell_type": "markdown",
   "id": "cf5fd310",
   "metadata": {},
   "source": [
    "### math.prod()\t\n",
    "Returns the product of all the elements in an iterable"
   ]
  },
  {
   "cell_type": "code",
   "execution_count": 23,
   "id": "fade21fe",
   "metadata": {},
   "outputs": [
    {
     "data": {
      "text/plain": [
       "24"
      ]
     },
     "execution_count": 23,
     "metadata": {},
     "output_type": "execute_result"
    }
   ],
   "source": [
    "s = (2,2,2,3)\n",
    "math.prod(s)"
   ]
  },
  {
   "cell_type": "markdown",
   "id": "853075f6",
   "metadata": {},
   "source": [
    "### math.radians()\t\n",
    "Converts a degree value into radians"
   ]
  },
  {
   "cell_type": "code",
   "execution_count": 25,
   "id": "bf7b3ca8",
   "metadata": {},
   "outputs": [
    {
     "data": {
      "text/plain": [
       "1.5707963267948966"
      ]
     },
     "execution_count": 25,
     "metadata": {},
     "output_type": "execute_result"
    }
   ],
   "source": [
    "math.radians(90)"
   ]
  },
  {
   "cell_type": "markdown",
   "id": "aa662d83",
   "metadata": {},
   "source": [
    "### math.sin()\t\n",
    "Returns the sine of a number"
   ]
  },
  {
   "cell_type": "code",
   "execution_count": 28,
   "id": "fd12900d",
   "metadata": {},
   "outputs": [
    {
     "data": {
      "text/plain": [
       "0.8414709848078965"
      ]
     },
     "execution_count": 28,
     "metadata": {},
     "output_type": "execute_result"
    }
   ],
   "source": [
    "math.sin(1)"
   ]
  },
  {
   "cell_type": "markdown",
   "id": "30bc70e4",
   "metadata": {},
   "source": [
    "### math.sqrt()\n",
    "Returns the square root of a number"
   ]
  },
  {
   "cell_type": "code",
   "execution_count": 32,
   "id": "cd37109b",
   "metadata": {},
   "outputs": [
    {
     "data": {
      "text/plain": [
       "9.0"
      ]
     },
     "execution_count": 32,
     "metadata": {},
     "output_type": "execute_result"
    }
   ],
   "source": [
    "math.sqrt(81)"
   ]
  },
  {
   "cell_type": "code",
   "execution_count": 33,
   "id": "94074ed8",
   "metadata": {},
   "outputs": [
    {
     "data": {
      "text/plain": [
       "3.141592653589793"
      ]
     },
     "execution_count": 33,
     "metadata": {},
     "output_type": "execute_result"
    }
   ],
   "source": [
    "math.pi"
   ]
  },
  {
   "cell_type": "code",
   "execution_count": 34,
   "id": "d7ad7944",
   "metadata": {},
   "outputs": [
    {
     "data": {
      "text/plain": [
       "6.283185307179586"
      ]
     },
     "execution_count": 34,
     "metadata": {},
     "output_type": "execute_result"
    }
   ],
   "source": [
    "math.tau"
   ]
  },
  {
   "cell_type": "code",
   "execution_count": 35,
   "id": "fcb9abab",
   "metadata": {},
   "outputs": [
    {
     "data": {
      "text/plain": [
       "2.718281828459045"
      ]
     },
     "execution_count": 35,
     "metadata": {},
     "output_type": "execute_result"
    }
   ],
   "source": [
    "math.e"
   ]
  },
  {
   "cell_type": "code",
   "execution_count": 36,
   "id": "14fca5ba",
   "metadata": {},
   "outputs": [
    {
     "data": {
      "text/plain": [
       "nan"
      ]
     },
     "execution_count": 36,
     "metadata": {},
     "output_type": "execute_result"
    }
   ],
   "source": [
    "math.nan"
   ]
  },
  {
   "cell_type": "code",
   "execution_count": 37,
   "id": "138dd5e5",
   "metadata": {},
   "outputs": [
    {
     "data": {
      "text/plain": [
       "inf"
      ]
     },
     "execution_count": 37,
     "metadata": {},
     "output_type": "execute_result"
    }
   ],
   "source": [
    "math.inf"
   ]
  },
  {
   "cell_type": "code",
   "execution_count": null,
   "id": "8ae935e3",
   "metadata": {},
   "outputs": [],
   "source": []
  }
 ],
 "metadata": {
  "kernelspec": {
   "display_name": "Python 3 (ipykernel)",
   "language": "python",
   "name": "python3"
  },
  "language_info": {
   "codemirror_mode": {
    "name": "ipython",
    "version": 3
   },
   "file_extension": ".py",
   "mimetype": "text/x-python",
   "name": "python",
   "nbconvert_exporter": "python",
   "pygments_lexer": "ipython3",
   "version": "3.10.9"
  }
 },
 "nbformat": 4,
 "nbformat_minor": 5
}
