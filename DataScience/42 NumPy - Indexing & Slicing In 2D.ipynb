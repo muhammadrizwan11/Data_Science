{
 "cells": [
  {
   "cell_type": "markdown",
   "id": "2c6ebb5b",
   "metadata": {},
   "source": [
    "# NumPy - Indexing & Slicing In 2D"
   ]
  },
  {
   "cell_type": "code",
   "execution_count": 1,
   "id": "e70f7483",
   "metadata": {},
   "outputs": [],
   "source": [
    "import numpy as np"
   ]
  },
  {
   "cell_type": "code",
   "execution_count": 13,
   "id": "23e8d864",
   "metadata": {},
   "outputs": [
    {
     "name": "stdout",
     "output_type": "stream",
     "text": [
      "[[1 2 3]\n",
      " [4 5 6]\n",
      " [7 8 9]]\n",
      "\n",
      "[[1 2 3]\n",
      " [4 5 6]\n",
      " [7 8 9]]\n",
      "\n",
      "slicing from starting\n",
      "[[4 5 6]\n",
      " [7 8 9]]\n",
      "\n",
      "Gettina column by sclicing\n",
      "[2 5 8]\n",
      "\n",
      "Gettina row by sclicing\n",
      "[7 8 9]\n"
     ]
    }
   ],
   "source": [
    "a = np.array([[1,2,3],[4,5,6],[7,8,9]])\n",
    "print(a)\n",
    "print()\n",
    "print(a[:])\n",
    "print()\n",
    "print('slicing from starting')\n",
    "print(a[1:])\n",
    "print()\n",
    "print('Gettina column by sclicing')\n",
    "print(a[... , 1])\n",
    "print()\n",
    "print('Gettina row by sclicing')\n",
    "\n",
    "print(a[2,...])"
   ]
  },
  {
   "cell_type": "code",
   "execution_count": null,
   "id": "91498df1",
   "metadata": {},
   "outputs": [],
   "source": []
  }
 ],
 "metadata": {
  "kernelspec": {
   "display_name": "Python 3 (ipykernel)",
   "language": "python",
   "name": "python3"
  },
  "language_info": {
   "codemirror_mode": {
    "name": "ipython",
    "version": 3
   },
   "file_extension": ".py",
   "mimetype": "text/x-python",
   "name": "python",
   "nbconvert_exporter": "python",
   "pygments_lexer": "ipython3",
   "version": "3.10.9"
  }
 },
 "nbformat": 4,
 "nbformat_minor": 5
}
