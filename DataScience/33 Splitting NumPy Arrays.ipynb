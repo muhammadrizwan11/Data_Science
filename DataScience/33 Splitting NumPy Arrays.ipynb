{
 "cells": [
  {
   "cell_type": "markdown",
   "id": "c079d2d7",
   "metadata": {},
   "source": [
    "# Splitting NumPy Arrays\n",
    "Splitting is reverse operation of Joining.\n",
    "\n",
    "Joining merges multiple arrays into one and Splitting breaks one array into multiple.\n",
    "\n",
    "We use array_split() for splitting arrays, we pass it the array we want to split and the number of splits."
   ]
  },
  {
   "cell_type": "code",
   "execution_count": 2,
   "id": "bb916bce",
   "metadata": {},
   "outputs": [],
   "source": [
    "import numpy as np"
   ]
  },
  {
   "cell_type": "markdown",
   "id": "ec82a108",
   "metadata": {},
   "source": [
    "# Split Into Arrays"
   ]
  },
  {
   "cell_type": "code",
   "execution_count": 3,
   "id": "6c0f74ff",
   "metadata": {},
   "outputs": [
    {
     "name": "stdout",
     "output_type": "stream",
     "text": [
      "[array([1, 2]), array([3, 4]), array([5, 6])]\n"
     ]
    }
   ],
   "source": [
    "arr = np.array([1,2,3,4,5,6])\n",
    "new = np.array_split(arr,3)\n",
    "print(new)"
   ]
  },
  {
   "cell_type": "code",
   "execution_count": 4,
   "id": "be640b61",
   "metadata": {},
   "outputs": [
    {
     "name": "stdout",
     "output_type": "stream",
     "text": [
      "[array([1, 2]), array([3, 4]), array([5]), array([6])]\n"
     ]
    }
   ],
   "source": [
    "arr = np.array([1,2,3,4,5,6])\n",
    "new = np.array_split(arr,4)\n",
    "print(new)"
   ]
  },
  {
   "cell_type": "code",
   "execution_count": 7,
   "id": "f01ee285",
   "metadata": {},
   "outputs": [
    {
     "name": "stdout",
     "output_type": "stream",
     "text": [
      "[1 2]\n",
      "[3 4]\n",
      "[5 6]\n"
     ]
    }
   ],
   "source": [
    "arr = np.array([1,2,3,4,5,6])\n",
    "new = np.array_split(arr,3)\n",
    "print(new[0])\n",
    "print(new[1])\n",
    "print(new[2])\n"
   ]
  },
  {
   "cell_type": "markdown",
   "id": "84ba8dd2",
   "metadata": {},
   "source": [
    "# Splitting 2-D Arrays\n",
    "Use the same syntax when splitting 2-D arrays."
   ]
  },
  {
   "cell_type": "code",
   "execution_count": 8,
   "id": "65bf0f5c",
   "metadata": {},
   "outputs": [
    {
     "name": "stdout",
     "output_type": "stream",
     "text": [
      "[array([[1, 2],\n",
      "       [3, 4]]), array([[5, 6],\n",
      "       [7, 8]]), array([[ 9, 10],\n",
      "       [11, 12]])]\n"
     ]
    }
   ],
   "source": [
    "arr = np.array([[1, 2], [3, 4], [5, 6], [7, 8], [9, 10], [11, 12]])\n",
    "new1 = np.array_split(arr,3)\n",
    "print(new1)"
   ]
  },
  {
   "cell_type": "code",
   "execution_count": 11,
   "id": "a82bc9d2",
   "metadata": {},
   "outputs": [
    {
     "name": "stdout",
     "output_type": "stream",
     "text": [
      "[[1 2 3]\n",
      " [3 4 5]]\n",
      "\n",
      "[[5 6 6]\n",
      " [7 8 8]]\n",
      "\n",
      "[[ 9  8 10]\n",
      " [11 12 12]]\n"
     ]
    }
   ],
   "source": [
    "arr = np.array([[1, 2,3], [3, 4,5], [5,6, 6], [7, 8,8], [9, 8,10], [11, 12,12]])\n",
    "new2 = np.array_split(arr,3)\n",
    "print(new2[0])\n",
    "print()\n",
    "print(new2[1])\n",
    "print()\n",
    "print(new2[2])"
   ]
  },
  {
   "cell_type": "markdown",
   "id": "a048d77d",
   "metadata": {},
   "source": [
    "# hsplit()"
   ]
  },
  {
   "cell_type": "code",
   "execution_count": 12,
   "id": "0e26f77e",
   "metadata": {},
   "outputs": [
    {
     "name": "stdout",
     "output_type": "stream",
     "text": [
      "[array([[ 1],\n",
      "       [ 3],\n",
      "       [ 5],\n",
      "       [ 7],\n",
      "       [ 9],\n",
      "       [11]]), array([[ 2],\n",
      "       [ 4],\n",
      "       [ 6],\n",
      "       [ 8],\n",
      "       [ 8],\n",
      "       [12]]), array([[ 3],\n",
      "       [ 5],\n",
      "       [ 6],\n",
      "       [ 8],\n",
      "       [10],\n",
      "       [12]])]\n"
     ]
    }
   ],
   "source": [
    "\n",
    "arr = np.array([[1, 2,3], [3, 4,5], [5,6, 6], [7, 8,8], [9, 8,10], [11, 12,12]])\n",
    "new3 = np.hsplit(arr,3)\n",
    "print(new3)"
   ]
  },
  {
   "cell_type": "markdown",
   "id": "f7dcfc44",
   "metadata": {},
   "source": [
    "# vsplit()"
   ]
  },
  {
   "cell_type": "code",
   "execution_count": 13,
   "id": "361083e2",
   "metadata": {},
   "outputs": [
    {
     "name": "stdout",
     "output_type": "stream",
     "text": [
      "[array([[1, 2, 3],\n",
      "       [3, 4, 5]]), array([[5, 6, 6],\n",
      "       [7, 8, 8]]), array([[ 9,  8, 10],\n",
      "       [11, 12, 12]])]\n"
     ]
    }
   ],
   "source": [
    "arr = np.array([[1, 2,3], [3, 4,5], [5,6, 6], [7, 8,8], [9, 8,10], [11, 12,12]])\n",
    "new3 = np.vsplit(arr,3)\n",
    "print(new3)"
   ]
  },
  {
   "cell_type": "code",
   "execution_count": null,
   "id": "b25b8483",
   "metadata": {},
   "outputs": [],
   "source": []
  }
 ],
 "metadata": {
  "kernelspec": {
   "display_name": "Python 3 (ipykernel)",
   "language": "python",
   "name": "python3"
  },
  "language_info": {
   "codemirror_mode": {
    "name": "ipython",
    "version": 3
   },
   "file_extension": ".py",
   "mimetype": "text/x-python",
   "name": "python",
   "nbconvert_exporter": "python",
   "pygments_lexer": "ipython3",
   "version": "3.10.9"
  }
 },
 "nbformat": 4,
 "nbformat_minor": 5
}
