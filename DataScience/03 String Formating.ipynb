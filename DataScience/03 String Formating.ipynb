{
 "cells": [
  {
   "cell_type": "markdown",
   "id": "c39897bf",
   "metadata": {},
   "source": [
    "# String Formating\n",
    "String formatting is the process of inserting a custom string or variable in predefined text.\n",
    " we can combine strings and numbers by using the format() method!\n",
    "\n",
    "The format() method takes the passed arguments, formats them, and places them in the string where the placeholders {} are:"
   ]
  },
  {
   "cell_type": "markdown",
   "id": "eb392fbe",
   "metadata": {},
   "source": [
    "#named indexes\n",
    "text1 = 'wellcome to my {fname} {lname}'.format(fname = 'You Tube',lname = 'Channel')\n",
    "#numbered indexes\n",
    "text2 = 'wellcome to my {0} {1}'.format('You Tube','Channel')\n",
    "#empty placeholder\n",
    "text3 = 'wellcome to my {} {}'.format('You Tube','Channel')\n",
    "\n",
    "print(text1)\n",
    "print(text2)\n",
    "print(text3)\n",
    "\n",
    "wellcome to my You Tube Channel\n",
    "wellcome to my You Tube Channel\n",
    "wellcome to my You Tube Channel\n"
   ]
  },
  {
   "cell_type": "code",
   "execution_count": 4,
   "id": "61d6163b",
   "metadata": {},
   "outputs": [],
   "source": [
    "age  = 23\n",
    "name = 'Rizwan'"
   ]
  },
  {
   "cell_type": "code",
   "execution_count": 5,
   "id": "e01b001c",
   "metadata": {},
   "outputs": [],
   "source": [
    "text  = 'MY name is {name} and my age is {age}'.format(name = name,age = age)"
   ]
  },
  {
   "cell_type": "code",
   "execution_count": 6,
   "id": "ed0ed5fe",
   "metadata": {},
   "outputs": [
    {
     "data": {
      "text/plain": [
       "'MY name is Rizwan and my age is 23'"
      ]
     },
     "execution_count": 6,
     "metadata": {},
     "output_type": "execute_result"
    }
   ],
   "source": [
    "text"
   ]
  },
  {
   "cell_type": "code",
   "execution_count": 7,
   "id": "e001618e",
   "metadata": {},
   "outputs": [],
   "source": [
    "text = 'My name is {0} is and my age is {1}'.format(name,age)"
   ]
  },
  {
   "cell_type": "code",
   "execution_count": 8,
   "id": "1def6bad",
   "metadata": {},
   "outputs": [
    {
     "data": {
      "text/plain": [
       "'My name is Rizwan is and my age is 23'"
      ]
     },
     "execution_count": 8,
     "metadata": {},
     "output_type": "execute_result"
    }
   ],
   "source": [
    "text"
   ]
  },
  {
   "cell_type": "code",
   "execution_count": 9,
   "id": "fd840eb7",
   "metadata": {},
   "outputs": [],
   "source": [
    "text = 'My name is {} is and my age is {}'.format(name , age)"
   ]
  },
  {
   "cell_type": "code",
   "execution_count": 10,
   "id": "36687a2f",
   "metadata": {},
   "outputs": [
    {
     "data": {
      "text/plain": [
       "'My name is Rizwan is and my age is 23'"
      ]
     },
     "execution_count": 10,
     "metadata": {},
     "output_type": "execute_result"
    }
   ],
   "source": [
    "text"
   ]
  },
  {
   "cell_type": "code",
   "execution_count": null,
   "id": "b9e27d22",
   "metadata": {},
   "outputs": [],
   "source": []
  }
 ],
 "metadata": {
  "kernelspec": {
   "display_name": "Python 3 (ipykernel)",
   "language": "python",
   "name": "python3"
  },
  "language_info": {
   "codemirror_mode": {
    "name": "ipython",
    "version": 3
   },
   "file_extension": ".py",
   "mimetype": "text/x-python",
   "name": "python",
   "nbconvert_exporter": "python",
   "pygments_lexer": "ipython3",
   "version": "3.10.9"
  }
 },
 "nbformat": 4,
 "nbformat_minor": 5
}
