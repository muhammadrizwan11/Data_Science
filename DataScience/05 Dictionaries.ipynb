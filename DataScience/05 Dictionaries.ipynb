{
 "cells": [
  {
   "cell_type": "markdown",
   "id": "39a00d02",
   "metadata": {},
   "source": [
    "# Dictionary\n",
    "Dictionaries are used to store data values in key:value pairs.\n",
    "A dictionary is a collection which is ordered*, changeable and do not allow duplicates.\n",
    "Dictionaries are written with curly brackets, and have keys and values:\n",
    "# creating a dictionary\n",
    "country_capitals = {\n",
    "  \"United States\": \"Washington D.C.\", \n",
    "  \"Italy\": \"Rome\", \n",
    "  \"England\": \"London\"\n",
    "}"
   ]
  },
  {
   "cell_type": "code",
   "execution_count": 6,
   "id": "41b042ab",
   "metadata": {},
   "outputs": [],
   "source": [
    "d = {}"
   ]
  },
  {
   "cell_type": "code",
   "execution_count": 7,
   "id": "c25d59b0",
   "metadata": {},
   "outputs": [
    {
     "data": {
      "text/plain": [
       "dict"
      ]
     },
     "execution_count": 7,
     "metadata": {},
     "output_type": "execute_result"
    }
   ],
   "source": [
    "type(d)"
   ]
  },
  {
   "cell_type": "code",
   "execution_count": 8,
   "id": "2929460a",
   "metadata": {},
   "outputs": [],
   "source": [
    "dic = {'name':'ali',\n",
    "      'age':23,\n",
    "      'class':'4thyear'}"
   ]
  },
  {
   "cell_type": "code",
   "execution_count": 9,
   "id": "7c06da38",
   "metadata": {},
   "outputs": [
    {
     "data": {
      "text/plain": [
       "{'name': 'ali', 'age': 23, 'class': '4thyear'}"
      ]
     },
     "execution_count": 9,
     "metadata": {},
     "output_type": "execute_result"
    }
   ],
   "source": [
    "dic"
   ]
  },
  {
   "cell_type": "code",
   "execution_count": 10,
   "id": "38589f80",
   "metadata": {},
   "outputs": [
    {
     "data": {
      "text/plain": [
       "{'United States': 'Washington D.C.', 'Italy': 'Rome', 'England': 'London'}"
      ]
     },
     "execution_count": 10,
     "metadata": {},
     "output_type": "execute_result"
    }
   ],
   "source": [
    "country_capitals = { \"United States\": \"Washington D.C.\", \"Italy\": \"Rome\", \"England\": \"London\" }\n",
    "country_capitals"
   ]
  },
  {
   "cell_type": "markdown",
   "id": "309a8eaf",
   "metadata": {},
   "source": [
    "# Duplicates Not Allowed\n",
    "Dictionaries cannot have two items with the same key:\n",
    "\n",
    "Example\n",
    "Duplicate values will overwrite existing values:\n",
    "\n",
    "thisdict = {\n",
    "  \"brand\": \"Ford\",\n",
    "  \"model\": \"Mustang\",\n",
    "  \"year\": 1964,\n",
    "  \"year\": 2020\n",
    "}\n",
    "print(thisdict)"
   ]
  },
  {
   "cell_type": "code",
   "execution_count": 12,
   "id": "d6460a50",
   "metadata": {},
   "outputs": [
    {
     "data": {
      "text/plain": [
       "{'name': 'ali', 'age': 23, 'class': '4thyear'}"
      ]
     },
     "execution_count": 12,
     "metadata": {},
     "output_type": "execute_result"
    }
   ],
   "source": [
    "dic = {'name':'ali',\n",
    "      'age':23,\n",
    "      'class':'4thyear',\n",
    "      'age':23}\n",
    "dic"
   ]
  },
  {
   "cell_type": "code",
   "execution_count": 13,
   "id": "9a19193d",
   "metadata": {},
   "outputs": [
    {
     "data": {
      "text/plain": [
       "{'brand': 'Ford', 'model': 'Mustang', 'year': 2020}"
      ]
     },
     "execution_count": 13,
     "metadata": {},
     "output_type": "execute_result"
    }
   ],
   "source": [
    "thisdict = { \"brand\": \"Ford\", \"model\": \"Mustang\", \"year\": 1964, \"year\": 2020 }\n",
    "thisdict"
   ]
  },
  {
   "cell_type": "markdown",
   "id": "6c5b0767",
   "metadata": {},
   "source": [
    "# Dictionary Length\n",
    "To determine how many items a dictionary has, use the len() function:"
   ]
  },
  {
   "cell_type": "code",
   "execution_count": 14,
   "id": "3b619df2",
   "metadata": {},
   "outputs": [
    {
     "data": {
      "text/plain": [
       "3"
      ]
     },
     "execution_count": 14,
     "metadata": {},
     "output_type": "execute_result"
    }
   ],
   "source": [
    "len(thisdict)"
   ]
  },
  {
   "cell_type": "markdown",
   "id": "6eb095f3",
   "metadata": {},
   "source": [
    "# Accessing Items"
   ]
  },
  {
   "cell_type": "code",
   "execution_count": 15,
   "id": "b6d1c163",
   "metadata": {},
   "outputs": [
    {
     "data": {
      "text/plain": [
       "'Ford'"
      ]
     },
     "execution_count": 15,
     "metadata": {},
     "output_type": "execute_result"
    }
   ],
   "source": [
    "thisdict[\"brand\"]"
   ]
  },
  {
   "cell_type": "markdown",
   "id": "c38a92f1",
   "metadata": {},
   "source": [
    "# Get Keys"
   ]
  },
  {
   "cell_type": "code",
   "execution_count": 16,
   "id": "ab260177",
   "metadata": {},
   "outputs": [
    {
     "data": {
      "text/plain": [
       "dict_keys(['brand', 'model', 'year'])"
      ]
     },
     "execution_count": 16,
     "metadata": {},
     "output_type": "execute_result"
    }
   ],
   "source": [
    "thisdict.keys()"
   ]
  },
  {
   "cell_type": "markdown",
   "id": "a4060151",
   "metadata": {},
   "source": [
    "# Get Values"
   ]
  },
  {
   "cell_type": "code",
   "execution_count": 17,
   "id": "05b97643",
   "metadata": {},
   "outputs": [
    {
     "data": {
      "text/plain": [
       "dict_values(['Ford', 'Mustang', 2020])"
      ]
     },
     "execution_count": 17,
     "metadata": {},
     "output_type": "execute_result"
    }
   ],
   "source": [
    "thisdict.values()"
   ]
  },
  {
   "cell_type": "markdown",
   "id": "c5268e52",
   "metadata": {},
   "source": [
    "# Get Items"
   ]
  },
  {
   "cell_type": "code",
   "execution_count": 18,
   "id": "b9da65cc",
   "metadata": {},
   "outputs": [
    {
     "data": {
      "text/plain": [
       "dict_items([('brand', 'Ford'), ('model', 'Mustang'), ('year', 2020)])"
      ]
     },
     "execution_count": 18,
     "metadata": {},
     "output_type": "execute_result"
    }
   ],
   "source": [
    "thisdict.items()"
   ]
  },
  {
   "cell_type": "markdown",
   "id": "f3e6b0f3",
   "metadata": {},
   "source": [
    "# Change Values"
   ]
  },
  {
   "cell_type": "code",
   "execution_count": 19,
   "id": "322164c1",
   "metadata": {},
   "outputs": [
    {
     "data": {
      "text/plain": [
       "{'brand': 'Ford', 'model': 'Mustang', 'year': 2023}"
      ]
     },
     "execution_count": 19,
     "metadata": {},
     "output_type": "execute_result"
    }
   ],
   "source": [
    "thisdict['year'] = 2023\n",
    "thisdict"
   ]
  },
  {
   "cell_type": "markdown",
   "id": "94c7281f",
   "metadata": {},
   "source": [
    "# Update Dictionary"
   ]
  },
  {
   "cell_type": "code",
   "execution_count": 22,
   "id": "3505c87b",
   "metadata": {},
   "outputs": [
    {
     "data": {
      "text/plain": [
       "{'brand': 'Ford', 'model': 'Mustang', 'year': '2024', 'colr': 'red'}"
      ]
     },
     "execution_count": 22,
     "metadata": {},
     "output_type": "execute_result"
    }
   ],
   "source": [
    "thisdict.update({'year':'2024'})\n",
    "thisdict"
   ]
  },
  {
   "cell_type": "markdown",
   "id": "0187cab3",
   "metadata": {},
   "source": [
    "# Adding Items"
   ]
  },
  {
   "cell_type": "code",
   "execution_count": 23,
   "id": "77c0220e",
   "metadata": {},
   "outputs": [
    {
     "data": {
      "text/plain": [
       "{'brand': 'Ford', 'model': 'Mustang', 'year': '2024', 'colr': 'red', 'tyre': 2}"
      ]
     },
     "execution_count": 23,
     "metadata": {},
     "output_type": "execute_result"
    }
   ],
   "source": [
    "thisdict['tyre']=2\n",
    "thisdict"
   ]
  },
  {
   "cell_type": "markdown",
   "id": "3e13bdb5",
   "metadata": {},
   "source": [
    "# Removing Items"
   ]
  },
  {
   "cell_type": "code",
   "execution_count": 27,
   "id": "72d6a3a7",
   "metadata": {},
   "outputs": [
    {
     "data": {
      "text/plain": [
       "{'brand': 'Ford', 'model': 'Mustang', 'year': '2024', 'colr': 'red'}"
      ]
     },
     "execution_count": 27,
     "metadata": {},
     "output_type": "execute_result"
    }
   ],
   "source": [
    "#thisdict.pop('tyre')\n",
    "thisdict"
   ]
  },
  {
   "cell_type": "code",
   "execution_count": 28,
   "id": "f256b8c6",
   "metadata": {},
   "outputs": [
    {
     "data": {
      "text/plain": [
       "{'brand': 'Ford', 'model': 'Mustang', 'year': '2024'}"
      ]
     },
     "execution_count": 28,
     "metadata": {},
     "output_type": "execute_result"
    }
   ],
   "source": [
    "thisdict.popitem()\n",
    "thisdict"
   ]
  },
  {
   "cell_type": "markdown",
   "id": "a4b2cc0c",
   "metadata": {},
   "source": [
    "# Copy a Dictionary"
   ]
  },
  {
   "cell_type": "code",
   "execution_count": 30,
   "id": "4732a53e",
   "metadata": {},
   "outputs": [
    {
     "data": {
      "text/plain": [
       "{'brand': 'Ford', 'model': 'Mustang', 'year': '2024'}"
      ]
     },
     "execution_count": 30,
     "metadata": {},
     "output_type": "execute_result"
    }
   ],
   "source": [
    "x = thisdict.copy()\n",
    "x"
   ]
  },
  {
   "cell_type": "markdown",
   "id": "075d7394",
   "metadata": {},
   "source": [
    "# Nested Dictionaries\n",
    "people = {1: {'name': 'John', 'age': '27', 'sex': 'Male'},\n",
    "          2: {'name': 'Marie', 'age': '22', 'sex': 'Female'}}\n",
    "\n",
    "print(people)"
   ]
  },
  {
   "cell_type": "code",
   "execution_count": 35,
   "id": "85292fc4",
   "metadata": {},
   "outputs": [],
   "source": [
    "thisdict = {'brand': 'Ford', 'model': 'Mustang', 'year': '2024',\n",
    "           'student':{'name':'ali','eat':\"roti\",\"age\":23}}"
   ]
  },
  {
   "cell_type": "code",
   "execution_count": 36,
   "id": "2ff06351",
   "metadata": {},
   "outputs": [
    {
     "data": {
      "text/plain": [
       "{'brand': 'Ford',\n",
       " 'model': 'Mustang',\n",
       " 'year': '2024',\n",
       " 'student': {'name': 'ali', 'eat': 'roti', 'age': 23}}"
      ]
     },
     "execution_count": 36,
     "metadata": {},
     "output_type": "execute_result"
    }
   ],
   "source": [
    "thisdict"
   ]
  },
  {
   "cell_type": "code",
   "execution_count": 37,
   "id": "103af96a",
   "metadata": {},
   "outputs": [
    {
     "data": {
      "text/plain": [
       "'ali'"
      ]
     },
     "execution_count": 37,
     "metadata": {},
     "output_type": "execute_result"
    }
   ],
   "source": [
    "thisdict['student']['name']"
   ]
  },
  {
   "cell_type": "code",
   "execution_count": 38,
   "id": "c4bd0ff2",
   "metadata": {},
   "outputs": [
    {
     "data": {
      "text/plain": [
       "23"
      ]
     },
     "execution_count": 38,
     "metadata": {},
     "output_type": "execute_result"
    }
   ],
   "source": [
    "thisdict['student']['age']"
   ]
  },
  {
   "cell_type": "code",
   "execution_count": 39,
   "id": "d0b5d5dd",
   "metadata": {},
   "outputs": [
    {
     "data": {
      "text/plain": [
       "'roti'"
      ]
     },
     "execution_count": 39,
     "metadata": {},
     "output_type": "execute_result"
    }
   ],
   "source": [
    "thisdict['student']['eat']"
   ]
  },
  {
   "cell_type": "code",
   "execution_count": null,
   "id": "298db16e",
   "metadata": {},
   "outputs": [],
   "source": []
  }
 ],
 "metadata": {
  "kernelspec": {
   "display_name": "Python 3 (ipykernel)",
   "language": "python",
   "name": "python3"
  },
  "language_info": {
   "codemirror_mode": {
    "name": "ipython",
    "version": 3
   },
   "file_extension": ".py",
   "mimetype": "text/x-python",
   "name": "python",
   "nbconvert_exporter": "python",
   "pygments_lexer": "ipython3",
   "version": "3.10.9"
  }
 },
 "nbformat": 4,
 "nbformat_minor": 5
}
