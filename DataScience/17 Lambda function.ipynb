{
 "cells": [
  {
   "cell_type": "markdown",
   "id": "c9c9443f",
   "metadata": {},
   "source": [
    "# Python lambda Function"
   ]
  },
  {
   "cell_type": "markdown",
   "id": "098a42a5",
   "metadata": {},
   "source": [
    "# What are Lambda Functions in Python?\n",
    "Lambda Functions in Python are anonymous functions, implying they don't have a name. The def keyword is needed to create a typical function in Python, as we already know. We can also use the lambda keyword in Python to define an unnamed function\n",
    "\n",
    "# Syntax of Python Lambda Function\n",
    "lambda arguments: expression \n"
   ]
  },
  {
   "cell_type": "code",
   "execution_count": 3,
   "id": "b8f3f0e3",
   "metadata": {},
   "outputs": [
    {
     "data": {
      "text/plain": [
       "8"
      ]
     },
     "execution_count": 3,
     "metadata": {},
     "output_type": "execute_result"
    }
   ],
   "source": [
    "def add(a,b):\n",
    "    return a+b\n",
    "add(3,5)"
   ]
  },
  {
   "cell_type": "code",
   "execution_count": 5,
   "id": "643b8d9e",
   "metadata": {},
   "outputs": [],
   "source": [
    "add = lambda a,b : a+b"
   ]
  },
  {
   "cell_type": "code",
   "execution_count": 6,
   "id": "72e26f03",
   "metadata": {},
   "outputs": [
    {
     "data": {
      "text/plain": [
       "10"
      ]
     },
     "execution_count": 6,
     "metadata": {},
     "output_type": "execute_result"
    }
   ],
   "source": [
    "add(3,7)"
   ]
  },
  {
   "cell_type": "code",
   "execution_count": 13,
   "id": "7f66aadb",
   "metadata": {},
   "outputs": [],
   "source": [
    "m = lambda a,b,c : (a*b)/c"
   ]
  },
  {
   "cell_type": "code",
   "execution_count": 14,
   "id": "2a322cef",
   "metadata": {},
   "outputs": [
    {
     "data": {
      "text/plain": [
       "2.6666666666666665"
      ]
     },
     "execution_count": 14,
     "metadata": {},
     "output_type": "execute_result"
    }
   ],
   "source": [
    "m(4,2,3)"
   ]
  },
  {
   "cell_type": "code",
   "execution_count": 15,
   "id": "a4802484",
   "metadata": {},
   "outputs": [
    {
     "data": {
      "text/plain": [
       "2.6666666666666665"
      ]
     },
     "execution_count": 15,
     "metadata": {},
     "output_type": "execute_result"
    }
   ],
   "source": [
    "def m(a,b,c):\n",
    "    return (a*b)/c\n",
    "m(4,2,3)"
   ]
  },
  {
   "cell_type": "code",
   "execution_count": 16,
   "id": "1e828357",
   "metadata": {},
   "outputs": [
    {
     "data": {
      "text/plain": [
       "<function __main__.<lambda>(a, b, c)>"
      ]
     },
     "execution_count": 16,
     "metadata": {},
     "output_type": "execute_result"
    }
   ],
   "source": [
    "lambda a,b,c : (a*b)/c\n"
   ]
  },
  {
   "cell_type": "code",
   "execution_count": 18,
   "id": "a6f9e229",
   "metadata": {},
   "outputs": [
    {
     "data": {
      "text/plain": [
       "<function __main__.m(a, b, c)>"
      ]
     },
     "execution_count": 18,
     "metadata": {},
     "output_type": "execute_result"
    }
   ],
   "source": [
    "m"
   ]
  },
  {
   "cell_type": "code",
   "execution_count": null,
   "id": "34fa5fb7",
   "metadata": {},
   "outputs": [],
   "source": []
  }
 ],
 "metadata": {
  "kernelspec": {
   "display_name": "Python 3 (ipykernel)",
   "language": "python",
   "name": "python3"
  },
  "language_info": {
   "codemirror_mode": {
    "name": "ipython",
    "version": 3
   },
   "file_extension": ".py",
   "mimetype": "text/x-python",
   "name": "python",
   "nbconvert_exporter": "python",
   "pygments_lexer": "ipython3",
   "version": "3.10.9"
  }
 },
 "nbformat": 4,
 "nbformat_minor": 5
}
