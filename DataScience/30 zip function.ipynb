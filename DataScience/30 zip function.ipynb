{
 "cells": [
  {
   "cell_type": "markdown",
   "id": "9c22a3c5",
   "metadata": {},
   "source": [
    "# Zip()"
   ]
  },
  {
   "cell_type": "markdown",
   "id": "e3baf600",
   "metadata": {},
   "source": [
    "### itreat over 2+ lists at the same time"
   ]
  },
  {
   "cell_type": "code",
   "execution_count": 7,
   "id": "1eca630d",
   "metadata": {},
   "outputs": [],
   "source": [
    "l = [1,2,3,4,5]\n",
    "m = [6,7,8,9,1,33]\n"
   ]
  },
  {
   "cell_type": "code",
   "execution_count": 8,
   "id": "5a5db755",
   "metadata": {},
   "outputs": [
    {
     "name": "stdout",
     "output_type": "stream",
     "text": [
      "1 6\n",
      "2 7\n",
      "3 8\n",
      "4 9\n",
      "5 1\n"
     ]
    }
   ],
   "source": [
    "for a,b in zip(l,m):\n",
    "    print(a,b)"
   ]
  },
  {
   "cell_type": "code",
   "execution_count": 9,
   "id": "f5fd1db7",
   "metadata": {},
   "outputs": [],
   "source": [
    "t = len(l)"
   ]
  },
  {
   "cell_type": "code",
   "execution_count": 10,
   "id": "d9d533ea",
   "metadata": {},
   "outputs": [
    {
     "name": "stdout",
     "output_type": "stream",
     "text": [
      "1 6\n",
      "2 7\n",
      "3 8\n",
      "4 9\n",
      "5 1\n"
     ]
    }
   ],
   "source": [
    "for h in range(t):\n",
    "    print(l[h],m[h])"
   ]
  },
  {
   "cell_type": "code",
   "execution_count": null,
   "id": "0d261c10",
   "metadata": {},
   "outputs": [],
   "source": []
  }
 ],
 "metadata": {
  "kernelspec": {
   "display_name": "Python 3 (ipykernel)",
   "language": "python",
   "name": "python3"
  },
  "language_info": {
   "codemirror_mode": {
    "name": "ipython",
    "version": 3
   },
   "file_extension": ".py",
   "mimetype": "text/x-python",
   "name": "python",
   "nbconvert_exporter": "python",
   "pygments_lexer": "ipython3",
   "version": "3.10.9"
  }
 },
 "nbformat": 4,
 "nbformat_minor": 5
}
