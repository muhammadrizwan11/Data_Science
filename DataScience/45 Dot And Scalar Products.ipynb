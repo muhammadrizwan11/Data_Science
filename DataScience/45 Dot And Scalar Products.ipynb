{
 "cells": [
  {
   "cell_type": "markdown",
   "id": "90a5f853",
   "metadata": {},
   "source": [
    "# Dot and Scalar product \n",
    "NumPy, the term \"dot product\" usually refers to the matrix multiplication between two arrays, while the \"scalar product\" is the element-wise multiplication of an array with a scalar value. Let's explore both concepts in NumPy"
   ]
  },
  {
   "cell_type": "markdown",
   "id": "c59742e8",
   "metadata": {},
   "source": [
    "# Dot Product (np.dot or @):\n",
    "The dot product is used for matrix multiplication between two arrays. For 1-dimensional arrays, it calculates the inner product; for 2-dimensional arrays, it performs matrix multiplication."
   ]
  },
  {
   "cell_type": "code",
   "execution_count": 3,
   "id": "6341c595",
   "metadata": {},
   "outputs": [
    {
     "name": "stdout",
     "output_type": "stream",
     "text": [
      "[[19 22]\n",
      " [43 50]]\n",
      "[[19 22]\n",
      " [43 50]]\n"
     ]
    }
   ],
   "source": [
    "import numpy as np\n",
    "a  = np.array([[1,2],[3,4]])\n",
    "b = np.array([[5,6],[7,8]])\n",
    "\n",
    "c = np.dot(a,b)\n",
    "print(c)\n",
    "\n",
    "d = a@b\n",
    "print(d)"
   ]
  },
  {
   "cell_type": "markdown",
   "id": "4c386645",
   "metadata": {},
   "source": [
    "# Scalar Product (Element-wise Multiplication):\n",
    "Scalar product involves multiplying each element of an array by a scalar value."
   ]
  },
  {
   "cell_type": "code",
   "execution_count": 4,
   "id": "5535084b",
   "metadata": {},
   "outputs": [
    {
     "name": "stdout",
     "output_type": "stream",
     "text": [
      "[10 20 30 40 50 60 70]\n"
     ]
    }
   ],
   "source": [
    "x = np.array([1,2,3,4,5,6,7])\n",
    "scalar = 10\n",
    "y = x*scalar\n",
    "print(y)"
   ]
  },
  {
   "cell_type": "code",
   "execution_count": null,
   "id": "60de9d15",
   "metadata": {},
   "outputs": [],
   "source": []
  }
 ],
 "metadata": {
  "kernelspec": {
   "display_name": "Python 3 (ipykernel)",
   "language": "python",
   "name": "python3"
  },
  "language_info": {
   "codemirror_mode": {
    "name": "ipython",
    "version": 3
   },
   "file_extension": ".py",
   "mimetype": "text/x-python",
   "name": "python",
   "nbconvert_exporter": "python",
   "pygments_lexer": "ipython3",
   "version": "3.10.9"
  }
 },
 "nbformat": 4,
 "nbformat_minor": 5
}
