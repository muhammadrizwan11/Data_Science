{
 "cells": [
  {
   "cell_type": "markdown",
   "id": "ad912c1a",
   "metadata": {},
   "source": [
    "# NumPy Array Shape"
   ]
  },
  {
   "cell_type": "markdown",
   "id": "e72454c2",
   "metadata": {},
   "source": [
    "# Shape of an Array\n",
    "The shape of an array is the number of elements in each dimension."
   ]
  },
  {
   "cell_type": "code",
   "execution_count": 1,
   "id": "4bd5e9e2",
   "metadata": {},
   "outputs": [],
   "source": [
    "import numpy as np"
   ]
  },
  {
   "cell_type": "code",
   "execution_count": 3,
   "id": "9dd4a542",
   "metadata": {},
   "outputs": [
    {
     "name": "stdout",
     "output_type": "stream",
     "text": [
      "[[1 2 3 4]\n",
      " [5 6 7 8]]\n",
      "\n",
      "(2, 4)\n"
     ]
    }
   ],
   "source": [
    "arr = np.array([[1, 2, 3, 4], [5, 6, 7, 8]])\n",
    "print(arr)\n",
    "print()\n",
    "print(arr.shape)"
   ]
  },
  {
   "cell_type": "code",
   "execution_count": 4,
   "id": "914417f0",
   "metadata": {},
   "outputs": [
    {
     "name": "stdout",
     "output_type": "stream",
     "text": [
      "[1 2 3 4 5]\n",
      "\n",
      "(5,)\n"
     ]
    }
   ],
   "source": [
    "a = np.array([1,2,3,4,5])\n",
    "print(a)\n",
    "print()\n",
    "print(a.shape)"
   ]
  },
  {
   "cell_type": "code",
   "execution_count": 5,
   "id": "1439213c",
   "metadata": {},
   "outputs": [
    {
     "name": "stdout",
     "output_type": "stream",
     "text": [
      "[[[[1 2 3 4 5]]]]\n",
      "\n",
      "4\n",
      "\n",
      "(1, 1, 1, 5)\n"
     ]
    }
   ],
   "source": [
    "a1 = np.array([1,2,3,4,5],ndmin=4)\n",
    "print(a1)\n",
    "print()\n",
    "print(np.ndim(a1))\n",
    "print()\n",
    "print(a1.shape)\n"
   ]
  },
  {
   "cell_type": "code",
   "execution_count": 9,
   "id": "a5f85464",
   "metadata": {},
   "outputs": [
    {
     "name": "stdout",
     "output_type": "stream",
     "text": [
      "[1 2 3 4 5 6 3 4 5]\n",
      "(9,)\n",
      "[[1 2 3]\n",
      " [4 5 6]\n",
      " [3 4 5]]\n",
      "(3, 3)\n"
     ]
    }
   ],
   "source": [
    "a2  = np.array([1,2,3,4,5,6,3,4,5])\n",
    "print(a2)\n",
    "print(a2.shape)\n",
    "x = a2.reshape(3,3)\n",
    "print(x)\n",
    "print(x.shape)"
   ]
  },
  {
   "cell_type": "code",
   "execution_count": 15,
   "id": "22ea51f6",
   "metadata": {},
   "outputs": [
    {
     "name": "stdout",
     "output_type": "stream",
     "text": [
      "[ 1  2  3  4  5  6  3  4  5 10 11 12]\n",
      "1\n",
      "(12,)\n",
      "[[[ 1  2]\n",
      "  [ 3  4]\n",
      "  [ 5  6]]\n",
      "\n",
      " [[ 3  4]\n",
      "  [ 5 10]\n",
      "  [11 12]]]\n",
      "3\n",
      "[ 1  2  3  4  5  6  3  4  5 10 11 12]\n"
     ]
    }
   ],
   "source": [
    "a3  = np.array([1,2,3,4,5,6,3,4,5,10,11,12])\n",
    "print(a3)\n",
    "print(np.ndim(a3))\n",
    "print(a3.shape)\n",
    "x1  = a3.reshape(2,3,2)\n",
    "print(x1)\n",
    "print(np.ndim(x1))\n",
    "print(x1.reshape(-1))"
   ]
  },
  {
   "cell_type": "code",
   "execution_count": null,
   "id": "c9819246",
   "metadata": {},
   "outputs": [],
   "source": []
  }
 ],
 "metadata": {
  "kernelspec": {
   "display_name": "Python 3 (ipykernel)",
   "language": "python",
   "name": "python3"
  },
  "language_info": {
   "codemirror_mode": {
    "name": "ipython",
    "version": 3
   },
   "file_extension": ".py",
   "mimetype": "text/x-python",
   "name": "python",
   "nbconvert_exporter": "python",
   "pygments_lexer": "ipython3",
   "version": "3.10.9"
  }
 },
 "nbformat": 4,
 "nbformat_minor": 5
}
