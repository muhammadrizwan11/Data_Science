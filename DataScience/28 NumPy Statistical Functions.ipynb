{
 "cells": [
  {
   "cell_type": "markdown",
   "id": "c912440a",
   "metadata": {},
   "source": [
    "# NumPy Statistical Functions"
   ]
  },
  {
   "cell_type": "markdown",
   "id": "fbdc058d",
   "metadata": {},
   "source": [
    "# Common NumPy Statistical Functions\n",
    "Here are some of the statistical functions provided by NumPy:\n",
    "\n"
   ]
  },
  {
   "cell_type": "raw",
   "id": "1fe8bedc",
   "metadata": {},
   "source": [
    "Functions\tDescriptions\n",
    "median()\treturn the median of an array\n",
    "mean()\treturn the mean of an array\n",
    "std()\treturn the standard deviation of an array\n",
    "percentile()\treturn the nth percentile of elements in an array\n",
    "min()\treturn the minimum element of an array\n",
    "max()\treturn the maximum element of an array"
   ]
  },
  {
   "cell_type": "markdown",
   "id": "1bdf6155",
   "metadata": {},
   "source": [
    "# median()"
   ]
  },
  {
   "cell_type": "code",
   "execution_count": 1,
   "id": "ca46acdc",
   "metadata": {},
   "outputs": [
    {
     "name": "stdout",
     "output_type": "stream",
     "text": [
      "4.0\n"
     ]
    }
   ],
   "source": [
    "import numpy as np\n",
    "a =np.array([1,2,4,6,8,3,0,4,6,1,6])\n",
    "print(np.median(a))"
   ]
  },
  {
   "cell_type": "code",
   "execution_count": 2,
   "id": "b5005f59",
   "metadata": {},
   "outputs": [
    {
     "name": "stdout",
     "output_type": "stream",
     "text": [
      "3.5\n"
     ]
    }
   ],
   "source": [
    "a =np.array([1,2,4,6,8,3,0,4,6,1,6,3])\n",
    "print(np.median(a))"
   ]
  },
  {
   "cell_type": "markdown",
   "id": "dd310f23",
   "metadata": {},
   "source": [
    "# mean()"
   ]
  },
  {
   "cell_type": "code",
   "execution_count": 5,
   "id": "0b90e4da",
   "metadata": {},
   "outputs": [
    {
     "name": "stdout",
     "output_type": "stream",
     "text": [
      "3.0\n",
      "3.0\n"
     ]
    }
   ],
   "source": [
    "a1  = np.array([1,2,3,4,5])\n",
    "print(np.sum(a1)/5)\n",
    "print(np.mean(a1))"
   ]
  },
  {
   "cell_type": "markdown",
   "id": "123ca201",
   "metadata": {},
   "source": [
    "# std()"
   ]
  },
  {
   "cell_type": "code",
   "execution_count": 7,
   "id": "f05fdc6b",
   "metadata": {},
   "outputs": [
    {
     "name": "stdout",
     "output_type": "stream",
     "text": [
      "34.69487534204439\n"
     ]
    }
   ],
   "source": [
    "a2  = np.array([1,2,3,4,5,33,66,99])\n",
    "print(np.std(a2))"
   ]
  },
  {
   "cell_type": "markdown",
   "id": "e34ae082",
   "metadata": {},
   "source": [
    "# percentile()"
   ]
  },
  {
   "cell_type": "code",
   "execution_count": 11,
   "id": "d419e7fc",
   "metadata": {},
   "outputs": [
    {
     "name": "stdout",
     "output_type": "stream",
     "text": [
      "4.0\n",
      "7.0\n",
      "9.0\n"
     ]
    }
   ],
   "source": [
    "a3 = np.array([1,2,4,6,7,8,9,19,20,21,5,8,2])\n",
    "print(np.percentile(a3,q = 25))\n",
    "print(np.percentile(a3,q = 50))\n",
    "print(np.percentile(a3,q = 75))\n"
   ]
  },
  {
   "cell_type": "code",
   "execution_count": 12,
   "id": "bb81a997",
   "metadata": {},
   "outputs": [
    {
     "name": "stdout",
     "output_type": "stream",
     "text": [
      "1\n",
      "21\n"
     ]
    }
   ],
   "source": [
    "a4 = np.array([1,2,4,6,7,8,9,19,20,21,5,8,2])\n",
    "print(np.min(a4))\n",
    "print(np.max(a4))\n"
   ]
  },
  {
   "cell_type": "code",
   "execution_count": null,
   "id": "ecaf47db",
   "metadata": {},
   "outputs": [],
   "source": []
  }
 ],
 "metadata": {
  "kernelspec": {
   "display_name": "Python 3 (ipykernel)",
   "language": "python",
   "name": "python3"
  },
  "language_info": {
   "codemirror_mode": {
    "name": "ipython",
    "version": 3
   },
   "file_extension": ".py",
   "mimetype": "text/x-python",
   "name": "python",
   "nbconvert_exporter": "python",
   "pygments_lexer": "ipython3",
   "version": "3.10.9"
  }
 },
 "nbformat": 4,
 "nbformat_minor": 5
}
