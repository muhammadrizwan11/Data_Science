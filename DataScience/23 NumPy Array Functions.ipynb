{
 "cells": [
  {
   "cell_type": "markdown",
   "id": "a0942ee2",
   "metadata": {},
   "source": [
    "# Identity\n",
    "Create an identity matrix with specified dimensions.\n",
    "\n"
   ]
  },
  {
   "cell_type": "code",
   "execution_count": 1,
   "id": "6c9112ef",
   "metadata": {},
   "outputs": [
    {
     "name": "stdout",
     "output_type": "stream",
     "text": [
      "[[1. 0. 0. 0.]\n",
      " [0. 1. 0. 0.]\n",
      " [0. 0. 1. 0.]\n",
      " [0. 0. 0. 1.]]\n"
     ]
    }
   ],
   "source": [
    "import numpy as np\n",
    "arr = np.identity(4)\n",
    "print(arr)"
   ]
  },
  {
   "cell_type": "code",
   "execution_count": 3,
   "id": "8fc4da48",
   "metadata": {},
   "outputs": [
    {
     "name": "stdout",
     "output_type": "stream",
     "text": [
      "[[1. 0. 0. 0. 0.]\n",
      " [0. 1. 0. 0. 0.]\n",
      " [0. 0. 1. 0. 0.]\n",
      " [0. 0. 0. 1. 0.]\n",
      " [0. 0. 0. 0. 1.]]\n"
     ]
    }
   ],
   "source": [
    "arr = np.eye(5,5)\n",
    "print(arr)"
   ]
  },
  {
   "cell_type": "markdown",
   "id": "6de6460f",
   "metadata": {},
   "source": [
    "# Array of k Random Value\n",
    "Creates an n-dimensional array of a random value."
   ]
  },
  {
   "cell_type": "code",
   "execution_count": 9,
   "id": "8587a77e",
   "metadata": {},
   "outputs": [
    {
     "name": "stdout",
     "output_type": "stream",
     "text": [
      "[[8 8 8 8 8]\n",
      " [8 8 8 8 8]\n",
      " [8 8 8 8 8]\n",
      " [8 8 8 8 8]\n",
      " [8 8 8 8 8]]\n"
     ]
    }
   ],
   "source": [
    "arr1 = np.full((5,5),fill_value=8)\n",
    "print(arr1)"
   ]
  },
  {
   "cell_type": "code",
   "execution_count": null,
   "id": "46205fb5",
   "metadata": {},
   "outputs": [],
   "source": []
  },
  {
   "cell_type": "markdown",
   "id": "623aae7b",
   "metadata": {},
   "source": [
    "# Random.random\n",
    "Generate n random float samples."
   ]
  },
  {
   "cell_type": "code",
   "execution_count": 12,
   "id": "0ad61009",
   "metadata": {},
   "outputs": [
    {
     "name": "stdout",
     "output_type": "stream",
     "text": [
      "[0.78921769 0.23705325 0.51849078]\n"
     ]
    }
   ],
   "source": [
    "arr2  = np.random.random(3)\n",
    "print(arr2)"
   ]
  },
  {
   "cell_type": "code",
   "execution_count": null,
   "id": "2df88044",
   "metadata": {},
   "outputs": [],
   "source": []
  },
  {
   "cell_type": "markdown",
   "id": "da20addf",
   "metadata": {},
   "source": [
    "# Random.randint\n",
    "Generate n random integer samples within a range.\n",
    "\n"
   ]
  },
  {
   "cell_type": "code",
   "execution_count": 16,
   "id": "2d5fcdb7",
   "metadata": {},
   "outputs": [
    {
     "name": "stdout",
     "output_type": "stream",
     "text": [
      "[3 8 9 5 7]\n"
     ]
    }
   ],
   "source": [
    "arr3 = np.random.randint(1,10,5)\n",
    "print(arr3)"
   ]
  },
  {
   "cell_type": "code",
   "execution_count": null,
   "id": "f000cb97",
   "metadata": {},
   "outputs": [],
   "source": []
  },
  {
   "cell_type": "markdown",
   "id": "c18261b8",
   "metadata": {},
   "source": [
    "# Uniform Samples\n",
    "Generate a random sample from a uniform distribution between lower and higher limit values.\n",
    "\n",
    "\n",
    "np.random.uniform(5,10,size = 4)\n",
    "array([6.47445571, 5.60725873, 8.82192327, 7.47674099])"
   ]
  },
  {
   "cell_type": "code",
   "execution_count": 19,
   "id": "c70e3dc3",
   "metadata": {},
   "outputs": [
    {
     "name": "stdout",
     "output_type": "stream",
     "text": [
      "[1.97594343 1.78923071 4.74208187 4.71899328 1.15861919 4.31011132]\n"
     ]
    }
   ],
   "source": [
    "arr4 = np.random.uniform(1,5,size = 6)\n",
    "print(arr4)"
   ]
  },
  {
   "cell_type": "code",
   "execution_count": null,
   "id": "99fa6392",
   "metadata": {},
   "outputs": [],
   "source": []
  },
  {
   "cell_type": "code",
   "execution_count": null,
   "id": "f8e78ef1",
   "metadata": {},
   "outputs": [],
   "source": []
  }
 ],
 "metadata": {
  "kernelspec": {
   "display_name": "Python 3 (ipykernel)",
   "language": "python",
   "name": "python3"
  },
  "language_info": {
   "codemirror_mode": {
    "name": "ipython",
    "version": 3
   },
   "file_extension": ".py",
   "mimetype": "text/x-python",
   "name": "python",
   "nbconvert_exporter": "python",
   "pygments_lexer": "ipython3",
   "version": "3.10.9"
  }
 },
 "nbformat": 4,
 "nbformat_minor": 5
}
