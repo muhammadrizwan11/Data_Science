{
 "cells": [
  {
   "cell_type": "markdown",
   "id": "f09774d5",
   "metadata": {},
   "source": [
    "# map() , filter() , reduce()"
   ]
  },
  {
   "cell_type": "code",
   "execution_count": 1,
   "id": "f8c891e1",
   "metadata": {},
   "outputs": [
    {
     "data": {
      "text/plain": [
       "729"
      ]
     },
     "execution_count": 1,
     "metadata": {},
     "output_type": "execute_result"
    }
   ],
   "source": [
    "def cube(n):\n",
    "    return n*n*n\n",
    "cube(9)"
   ]
  },
  {
   "cell_type": "code",
   "execution_count": 5,
   "id": "9b7b7bee",
   "metadata": {},
   "outputs": [
    {
     "data": {
      "text/plain": [
       "[1, 8, 27, 64, 125, 216, 343, 512, 729]"
      ]
     },
     "execution_count": 5,
     "metadata": {},
     "output_type": "execute_result"
    }
   ],
   "source": [
    "l = [1,2,3,4,5,6,7,8,9]\n",
    "var = map(cube,l)\n",
    "list(var)"
   ]
  },
  {
   "cell_type": "code",
   "execution_count": 2,
   "id": "eb31476e",
   "metadata": {},
   "outputs": [
    {
     "data": {
      "text/plain": [
       "[1, 8, 27, 64, 125, 216, 343, 512, 729]"
      ]
     },
     "execution_count": 2,
     "metadata": {},
     "output_type": "execute_result"
    }
   ],
   "source": [
    "l = [1,2,3,4,5,6,7,8,9]\n",
    "n = []\n",
    "for i in l:\n",
    "    n.append(cube(i))\n",
    "n"
   ]
  },
  {
   "cell_type": "code",
   "execution_count": 7,
   "id": "856cacee",
   "metadata": {},
   "outputs": [
    {
     "data": {
      "text/plain": [
       "False"
      ]
     },
     "execution_count": 7,
     "metadata": {},
     "output_type": "execute_result"
    }
   ],
   "source": [
    "#filter\n",
    "def fil(n):\n",
    "    return n>4\n",
    "fil(3)"
   ]
  },
  {
   "cell_type": "code",
   "execution_count": 8,
   "id": "9ed74835",
   "metadata": {},
   "outputs": [
    {
     "data": {
      "text/plain": [
       "[5, 6, 7, 8, 9]"
      ]
     },
     "execution_count": 8,
     "metadata": {},
     "output_type": "execute_result"
    }
   ],
   "source": [
    "l = [1,2,3,4,5,6,7,8,9]\n",
    "var = filter(fil,l)\n",
    "list(var)"
   ]
  },
  {
   "cell_type": "code",
   "execution_count": 9,
   "id": "85b761f6",
   "metadata": {},
   "outputs": [
    {
     "data": {
      "text/plain": [
       "100"
      ]
     },
     "execution_count": 9,
     "metadata": {},
     "output_type": "execute_result"
    }
   ],
   "source": [
    "#reduce\n",
    "l = [1,2,3,4,5,6,7,8,9]\n",
    "from functools import reduce\n",
    "def add(a,b):\n",
    "    return a+b\n",
    "add(34,66)"
   ]
  },
  {
   "cell_type": "code",
   "execution_count": 11,
   "id": "ce67e9f0",
   "metadata": {},
   "outputs": [
    {
     "data": {
      "text/plain": [
       "45"
      ]
     },
     "execution_count": 11,
     "metadata": {},
     "output_type": "execute_result"
    }
   ],
   "source": [
    "var = reduce(add,l)\n",
    "var"
   ]
  },
  {
   "cell_type": "code",
   "execution_count": 12,
   "id": "3f8cca4f",
   "metadata": {},
   "outputs": [
    {
     "data": {
      "text/plain": [
       "362880"
      ]
     },
     "execution_count": 12,
     "metadata": {},
     "output_type": "execute_result"
    }
   ],
   "source": [
    "var = reduce(lambda x,y:x*y,l)\n",
    "var"
   ]
  },
  {
   "cell_type": "code",
   "execution_count": null,
   "id": "2eff0795",
   "metadata": {},
   "outputs": [],
   "source": []
  }
 ],
 "metadata": {
  "kernelspec": {
   "display_name": "Python 3 (ipykernel)",
   "language": "python",
   "name": "python3"
  },
  "language_info": {
   "codemirror_mode": {
    "name": "ipython",
    "version": 3
   },
   "file_extension": ".py",
   "mimetype": "text/x-python",
   "name": "python",
   "nbconvert_exporter": "python",
   "pygments_lexer": "ipython3",
   "version": "3.10.9"
  }
 },
 "nbformat": 4,
 "nbformat_minor": 5
}
