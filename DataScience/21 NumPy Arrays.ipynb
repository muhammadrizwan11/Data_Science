{
 "cells": [
  {
   "cell_type": "markdown",
   "id": "4187be40",
   "metadata": {},
   "source": [
    "# NumPy Creating Arrays"
   ]
  },
  {
   "cell_type": "markdown",
   "id": "8cb1c2b8",
   "metadata": {},
   "source": [
    "## Create a NumPy ndarray Object\n",
    "NumPy is used to work with arrays. The array object in NumPy is called ndarray.\n",
    "\n",
    "We can create a NumPy ndarray object by using the array() function"
   ]
  },
  {
   "cell_type": "code",
   "execution_count": 4,
   "id": "852b1489",
   "metadata": {},
   "outputs": [
    {
     "name": "stdout",
     "output_type": "stream",
     "text": [
      "[1 2 3 4]\n",
      "<class 'numpy.ndarray'>\n"
     ]
    }
   ],
   "source": [
    "x  = [ 1,2,3,4]\n",
    "import numpy as np\n",
    "arr = np.array(x)\n",
    "arr\n",
    "print(arr)\n",
    "print(type(arr))"
   ]
  },
  {
   "cell_type": "code",
   "execution_count": null,
   "id": "feca0489",
   "metadata": {},
   "outputs": [],
   "source": []
  },
  {
   "cell_type": "markdown",
   "id": "10e1d25c",
   "metadata": {},
   "source": [
    "# Dimensions in Arrays\n",
    "A dimension in arrays is one level of array depth"
   ]
  },
  {
   "attachments": {
    "NumPy-array.webp": {
     "image/webp": "[encoded data removed]"
    }
   },
   "cell_type": "markdown",
   "id": "fda3f25b",
   "metadata": {},
   "source": [
    "![NumPy-array.webp](attachment:NumPy-array.webp)"
   ]
  },
  {
   "cell_type": "code",
   "execution_count": 7,
   "id": "40a1f6e7",
   "metadata": {},
   "outputs": [
    {
     "name": "stdout",
     "output_type": "stream",
     "text": [
      "32\n",
      "<class 'numpy.ndarray'>\n",
      "0\n"
     ]
    }
   ],
   "source": [
    "arr1 = np.array(32)\n",
    "print(arr1)\n",
    "print(type(arr1))\n",
    "print(np.ndim(arr1))"
   ]
  },
  {
   "cell_type": "code",
   "execution_count": 9,
   "id": "a03181eb",
   "metadata": {},
   "outputs": [
    {
     "name": "stdout",
     "output_type": "stream",
     "text": [
      "[1 2 3 4]\n",
      "1\n"
     ]
    }
   ],
   "source": [
    "arr2 = np.array([1,2,3,4])\n",
    "print(arr2)\n",
    "print(np.ndim(arr2))"
   ]
  },
  {
   "cell_type": "code",
   "execution_count": 14,
   "id": "691e7c53",
   "metadata": {},
   "outputs": [
    {
     "name": "stdout",
     "output_type": "stream",
     "text": [
      "[[1 2 3 4]\n",
      " [1 2 3 4]\n",
      " [1 2 3 7]]\n",
      "2\n"
     ]
    }
   ],
   "source": [
    "arr3 = np.array([[1,2,3,4],[1,2,3,4],[1,2,3,7]])\n",
    "print(arr3)\n",
    "print(np.ndim(arr3))"
   ]
  },
  {
   "cell_type": "code",
   "execution_count": 15,
   "id": "e6a5a2ce",
   "metadata": {},
   "outputs": [
    {
     "name": "stdout",
     "output_type": "stream",
     "text": [
      "[[[1 2 3 4]\n",
      "  [1 2 3 4]\n",
      "  [1 2 3 7]]]\n",
      "3\n"
     ]
    }
   ],
   "source": [
    "arr4 = np.array([[[1,2,3,4],[1,2,3,4],[1,2,3,7]]])\n",
    "print(arr4)\n",
    "print(np.ndim(arr4))"
   ]
  },
  {
   "cell_type": "code",
   "execution_count": 17,
   "id": "3602726b",
   "metadata": {},
   "outputs": [
    {
     "name": "stdout",
     "output_type": "stream",
     "text": [
      "[[[[[6 7 8]]]]]\n",
      "5\n"
     ]
    }
   ],
   "source": [
    "arr5 = np.array([[[[[6,7,8]]]]])\n",
    "\n",
    "print(arr5)\n",
    "print(np.ndim(arr5))"
   ]
  },
  {
   "cell_type": "code",
   "execution_count": 20,
   "id": "ed20ebfd",
   "metadata": {},
   "outputs": [
    {
     "name": "stdout",
     "output_type": "stream",
     "text": [
      "[[[[[[[[[[1 2 3 4 5 6 7]]]]]]]]]]\n",
      "10\n"
     ]
    }
   ],
   "source": [
    "arr6 = np.array([1,2,3,4,5,6,7],ndmin=10)\n",
    "print(arr6)\n",
    "print(np.ndim(arr6))"
   ]
  },
  {
   "cell_type": "code",
   "execution_count": null,
   "id": "2c92ca6c",
   "metadata": {},
   "outputs": [],
   "source": []
  }
 ],
 "metadata": {
  "kernelspec": {
   "display_name": "Python 3 (ipykernel)",
   "language": "python",
   "name": "python3"
  },
  "language_info": {
   "codemirror_mode": {
    "name": "ipython",
    "version": 3
   },
   "file_extension": ".py",
   "mimetype": "text/x-python",
   "name": "python",
   "nbconvert_exporter": "python",
   "pygments_lexer": "ipython3",
   "version": "3.10.9"
  }
 },
 "nbformat": 4,
 "nbformat_minor": 5
}
