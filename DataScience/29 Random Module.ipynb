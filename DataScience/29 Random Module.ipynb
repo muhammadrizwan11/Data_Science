{
 "cells": [
  {
   "cell_type": "markdown",
   "id": "cc4693b5",
   "metadata": {},
   "source": [
    "# Random Module"
   ]
  },
  {
   "cell_type": "markdown",
   "id": "0289d6f6",
   "metadata": {},
   "source": [
    "randint()\tReturns a random number between the given range\n",
    "seed()\t    Initialize the random number generator\n",
    "randrange()\tReturns a random number between the given range\n",
    "choice()\tReturns a random element from the given sequence\n",
    "shuffle()\tTakes a sequence and returns the sequence in a random order\n",
    "sample()\tReturns a given sample of a sequence\n",
    "random()\tReturns a random float number between 0 and 1\n",
    "uniform()\tReturns a random float number between two given parameters\n"
   ]
  },
  {
   "cell_type": "code",
   "execution_count": 2,
   "id": "9d2474bf",
   "metadata": {},
   "outputs": [],
   "source": [
    "import random as r "
   ]
  },
  {
   "cell_type": "code",
   "execution_count": 6,
   "id": "50628ff0",
   "metadata": {},
   "outputs": [
    {
     "data": {
      "text/plain": [
       "4"
      ]
     },
     "execution_count": 6,
     "metadata": {},
     "output_type": "execute_result"
    }
   ],
   "source": [
    "r.randint(3,9)"
   ]
  },
  {
   "cell_type": "code",
   "execution_count": 10,
   "id": "cdc191c9",
   "metadata": {},
   "outputs": [
    {
     "data": {
      "text/plain": [
       "0.6229016948897019"
      ]
     },
     "execution_count": 10,
     "metadata": {},
     "output_type": "execute_result"
    }
   ],
   "source": [
    "r.seed(5)\n",
    "r.random()"
   ]
  },
  {
   "cell_type": "code",
   "execution_count": 16,
   "id": "db97815a",
   "metadata": {},
   "outputs": [
    {
     "data": {
      "text/plain": [
       "7"
      ]
     },
     "execution_count": 16,
     "metadata": {},
     "output_type": "execute_result"
    }
   ],
   "source": [
    "r.randrange(2,9)"
   ]
  },
  {
   "cell_type": "code",
   "execution_count": 21,
   "id": "fbad3b21",
   "metadata": {},
   "outputs": [
    {
     "data": {
      "text/plain": [
       "3"
      ]
     },
     "execution_count": 21,
     "metadata": {},
     "output_type": "execute_result"
    }
   ],
   "source": [
    "l = [1,2,3,4,5,6,7,8]\n",
    "r.choice(l)"
   ]
  },
  {
   "cell_type": "code",
   "execution_count": 24,
   "id": "feb7b366",
   "metadata": {},
   "outputs": [
    {
     "name": "stdout",
     "output_type": "stream",
     "text": [
      "None\n",
      "[5, 3, 6, 4, 8, 1, 2, 7]\n"
     ]
    }
   ],
   "source": [
    "l = [1,2,3,4,5,6,7,8]\n",
    "print(r.shuffle(l))\n",
    "print(l)"
   ]
  },
  {
   "cell_type": "code",
   "execution_count": 28,
   "id": "b8ce4731",
   "metadata": {},
   "outputs": [
    {
     "data": {
      "text/plain": [
       "[3, 7, 2]"
      ]
     },
     "execution_count": 28,
     "metadata": {},
     "output_type": "execute_result"
    }
   ],
   "source": [
    "l = [1,2,3,4,5,6,7,8]\n",
    "r.sample(l,k = 3)"
   ]
  },
  {
   "cell_type": "code",
   "execution_count": 32,
   "id": "d2eaa24c",
   "metadata": {},
   "outputs": [
    {
     "data": {
      "text/plain": [
       "0.5392234688708106"
      ]
     },
     "execution_count": 32,
     "metadata": {},
     "output_type": "execute_result"
    }
   ],
   "source": [
    "r.random()"
   ]
  },
  {
   "cell_type": "code",
   "execution_count": 35,
   "id": "a7a5d9c9",
   "metadata": {},
   "outputs": [
    {
     "data": {
      "text/plain": [
       "8.645856006527994"
      ]
     },
     "execution_count": 35,
     "metadata": {},
     "output_type": "execute_result"
    }
   ],
   "source": [
    "r.uniform(3,9)"
   ]
  },
  {
   "cell_type": "code",
   "execution_count": null,
   "id": "547eb019",
   "metadata": {},
   "outputs": [],
   "source": []
  },
  {
   "cell_type": "code",
   "execution_count": null,
   "id": "1d03e8c1",
   "metadata": {},
   "outputs": [],
   "source": []
  }
 ],
 "metadata": {
  "kernelspec": {
   "display_name": "Python 3 (ipykernel)",
   "language": "python",
   "name": "python3"
  },
  "language_info": {
   "codemirror_mode": {
    "name": "ipython",
    "version": 3
   },
   "file_extension": ".py",
   "mimetype": "text/x-python",
   "name": "python",
   "nbconvert_exporter": "python",
   "pygments_lexer": "ipython3",
   "version": "3.10.9"
  }
 },
 "nbformat": 4,
 "nbformat_minor": 5
}
