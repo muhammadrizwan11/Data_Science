{
 "cells": [
  {
   "cell_type": "code",
   "execution_count": 2,
   "id": "326c28f2",
   "metadata": {},
   "outputs": [
    {
     "name": "stdout",
     "output_type": "stream",
     "text": [
      "Hello! Welcome to demofile.txt\n",
      "This file is for testing purposes.\n",
      "Good Luck!\n"
     ]
    }
   ],
   "source": [
    "f  = open('text.txt','r')\n",
    "print(f.read())"
   ]
  },
  {
   "cell_type": "code",
   "execution_count": 3,
   "id": "ae3dc267",
   "metadata": {},
   "outputs": [
    {
     "name": "stdout",
     "output_type": "stream",
     "text": [
      "Hello\n"
     ]
    }
   ],
   "source": [
    "f  = open('text.txt','r')\n",
    "print(f.read(5))"
   ]
  },
  {
   "cell_type": "code",
   "execution_count": 4,
   "id": "aab4d75c",
   "metadata": {},
   "outputs": [
    {
     "name": "stdout",
     "output_type": "stream",
     "text": [
      "['Hello! Welcome to demofile.txt\\n', 'This file is for testing purposes.\\n', 'Good Luck!']\n"
     ]
    }
   ],
   "source": [
    "f  = open('text.txt','r')\n",
    "print(f.readlines())"
   ]
  },
  {
   "cell_type": "code",
   "execution_count": 6,
   "id": "90360234",
   "metadata": {},
   "outputs": [
    {
     "name": "stdout",
     "output_type": "stream",
     "text": [
      "Hello\n"
     ]
    }
   ],
   "source": [
    "f  = open('text.txt','r')\n",
    "print(f.readline(5))"
   ]
  },
  {
   "cell_type": "code",
   "execution_count": 7,
   "id": "3dd80fb3",
   "metadata": {},
   "outputs": [],
   "source": [
    "f = open('new.txt','x')"
   ]
  },
  {
   "cell_type": "code",
   "execution_count": 10,
   "id": "7c84ea4a",
   "metadata": {},
   "outputs": [],
   "source": [
    "f = open('new.txt','a')\n",
    "f.write(' this is new fille')\n",
    "f.close()"
   ]
  },
  {
   "cell_type": "code",
   "execution_count": 11,
   "id": "fa5b977c",
   "metadata": {},
   "outputs": [],
   "source": [
    "f = open('new.txt','w')\n",
    "f.write(' this is new fille')\n",
    "f.close()"
   ]
  },
  {
   "cell_type": "code",
   "execution_count": null,
   "id": "01132bde",
   "metadata": {},
   "outputs": [],
   "source": []
  }
 ],
 "metadata": {
  "kernelspec": {
   "display_name": "Python 3 (ipykernel)",
   "language": "python",
   "name": "python3"
  },
  "language_info": {
   "codemirror_mode": {
    "name": "ipython",
    "version": 3
   },
   "file_extension": ".py",
   "mimetype": "text/x-python",
   "name": "python",
   "nbconvert_exporter": "python",
   "pygments_lexer": "ipython3",
   "version": "3.10.9"
  }
 },
 "nbformat": 4,
 "nbformat_minor": 5
}
