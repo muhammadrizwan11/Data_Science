{
 "cells": [
  {
   "cell_type": "markdown",
   "id": "5bf2eae9",
   "metadata": {},
   "source": [
    "# Python if...else Statement"
   ]
  },
  {
   "cell_type": "code",
   "execution_count": 1,
   "id": "60ed774e",
   "metadata": {},
   "outputs": [
    {
     "name": "stdout",
     "output_type": "stream",
     "text": [
      "a is greatre then zero\n"
     ]
    }
   ],
   "source": [
    "a = 10\n",
    "if a>0:\n",
    "    print('a is greatre then zero')"
   ]
  },
  {
   "cell_type": "code",
   "execution_count": 3,
   "id": "91d55317",
   "metadata": {},
   "outputs": [
    {
     "name": "stdout",
     "output_type": "stream",
     "text": [
      "Out of if \n"
     ]
    }
   ],
   "source": [
    "a = 1\n",
    "if a>10:\n",
    "    print('a is greatre then zero')\n",
    "print('Out of if ')"
   ]
  },
  {
   "cell_type": "code",
   "execution_count": 4,
   "id": "8e9f3fe4",
   "metadata": {},
   "outputs": [
    {
     "name": "stdout",
     "output_type": "stream",
     "text": [
      "Number is positive.\n",
      "The if statement is easy\n"
     ]
    }
   ],
   "source": [
    "number = 10\n",
    "\n",
    "# check if number is greater than 0\n",
    "if number > 0:\n",
    "    print('Number is positive.')\n",
    "\n",
    "print('The if statement is easy')"
   ]
  },
  {
   "cell_type": "code",
   "execution_count": 5,
   "id": "537fea91",
   "metadata": {
    "scrolled": true
   },
   "outputs": [
    {
     "name": "stdout",
     "output_type": "stream",
     "text": [
      "10 is greater then zero\n"
     ]
    }
   ],
   "source": [
    "a = 10\n",
    "if a >0:\n",
    "    print(f'{a} is greater then zero')\n",
    "else:\n",
    "    print(f'{a} is less then zero')\n",
    "    "
   ]
  },
  {
   "cell_type": "code",
   "execution_count": 6,
   "id": "64c82280",
   "metadata": {},
   "outputs": [
    {
     "name": "stdout",
     "output_type": "stream",
     "text": [
      "-10 is less then zero\n"
     ]
    }
   ],
   "source": [
    "a = -10\n",
    "if a >0:\n",
    "    print(f'{a} is greater then zero')\n",
    "else:\n",
    "    print(f'{a} is less then zero')"
   ]
  },
  {
   "cell_type": "code",
   "execution_count": 7,
   "id": "ab5aa432",
   "metadata": {},
   "outputs": [
    {
     "name": "stdout",
     "output_type": "stream",
     "text": [
      "Positive number\n",
      "This statement is always executed\n"
     ]
    }
   ],
   "source": [
    "number = 10\n",
    "\n",
    "if number > 0:\n",
    "    print('Positive number')\n",
    "\n",
    "else:\n",
    "    print('Negative number')\n",
    "\n",
    "print('This statement is always executed')"
   ]
  },
  {
   "cell_type": "code",
   "execution_count": 10,
   "id": "bcf6d1c5",
   "metadata": {},
   "outputs": [
    {
     "name": "stdout",
     "output_type": "stream",
     "text": [
      "Neg\n"
     ]
    }
   ],
   "source": [
    "a = -4\n",
    "if a>0:\n",
    "    print('Positive')\n",
    "elif a==0:\n",
    "    print('zero')\n",
    "else:\n",
    "    print('Neg')"
   ]
  },
  {
   "cell_type": "code",
   "execution_count": 11,
   "id": "74768615",
   "metadata": {},
   "outputs": [
    {
     "name": "stdout",
     "output_type": "stream",
     "text": [
      "Zero\n",
      "This statement is always executed\n"
     ]
    }
   ],
   "source": [
    "number = 0\n",
    "\n",
    "if number > 0:\n",
    "    print(\"Positive number\")\n",
    "\n",
    "elif number == 0:\n",
    "    print('Zero')\n",
    "else:\n",
    "    print('Negative number')\n",
    "\n",
    "print('This statement is always executed')"
   ]
  },
  {
   "cell_type": "code",
   "execution_count": 15,
   "id": "cb1bc967",
   "metadata": {},
   "outputs": [
    {
     "name": "stdout",
     "output_type": "stream",
     "text": [
      "zero\n"
     ]
    }
   ],
   "source": [
    "a = 0\n",
    "if a>=0:\n",
    "    if a==0:\n",
    "        print('zero')\n",
    "    else:\n",
    "        print('Positive')\n",
    "else:\n",
    "    print('Neg')"
   ]
  },
  {
   "cell_type": "code",
   "execution_count": null,
   "id": "0b05a3ea",
   "metadata": {},
   "outputs": [],
   "source": []
  }
 ],
 "metadata": {
  "kernelspec": {
   "display_name": "Python 3 (ipykernel)",
   "language": "python",
   "name": "python3"
  },
  "language_info": {
   "codemirror_mode": {
    "name": "ipython",
    "version": 3
   },
   "file_extension": ".py",
   "mimetype": "text/x-python",
   "name": "python",
   "nbconvert_exporter": "python",
   "pygments_lexer": "ipython3",
   "version": "3.10.9"
  }
 },
 "nbformat": 4,
 "nbformat_minor": 5
}
