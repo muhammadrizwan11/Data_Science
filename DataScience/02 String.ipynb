{
 "cells": [
  {
   "cell_type": "markdown",
   "id": "6b708f4e",
   "metadata": {},
   "source": [
    "# 1 Python Strings"
   ]
  },
  {
   "cell_type": "markdown",
   "id": "1fbdd686",
   "metadata": {},
   "source": [
    "Strings in python are surrounded by either single quotation marks, or double quotation marks.\n",
    "\n",
    "'hello' is the same as \"hello\".\n",
    "\n",
    "You can display a string literal with the print() function:"
   ]
  },
  {
   "cell_type": "markdown",
   "id": "c10b8fb3",
   "metadata": {},
   "source": [
    "# Example"
   ]
  },
  {
   "cell_type": "code",
   "execution_count": 1,
   "id": "7c29f7ed",
   "metadata": {},
   "outputs": [
    {
     "name": "stdout",
     "output_type": "stream",
     "text": [
      "Hello\n",
      "Hello\n"
     ]
    }
   ],
   "source": [
    "print(\"Hello\")\n",
    "print('Hello')"
   ]
  },
  {
   "cell_type": "markdown",
   "id": "2b5b4cc9",
   "metadata": {},
   "source": [
    "# Assign String to a Variable"
   ]
  },
  {
   "cell_type": "code",
   "execution_count": 2,
   "id": "986b73ae",
   "metadata": {},
   "outputs": [
    {
     "name": "stdout",
     "output_type": "stream",
     "text": [
      "Hello\n"
     ]
    }
   ],
   "source": [
    "a = \"Hello\"\n",
    "print(a)"
   ]
  },
  {
   "cell_type": "markdown",
   "id": "c99ed4ac",
   "metadata": {},
   "source": [
    "# Multiline Strings"
   ]
  },
  {
   "cell_type": "markdown",
   "id": "5e835569",
   "metadata": {},
   "source": [
    "You can assign a multiline string to a variable by using three quotes:"
   ]
  },
  {
   "cell_type": "markdown",
   "id": "90902d20",
   "metadata": {},
   "source": [
    "# Example\n",
    "You can use three double quotes:"
   ]
  },
  {
   "cell_type": "code",
   "execution_count": 3,
   "id": "29caf22f",
   "metadata": {},
   "outputs": [],
   "source": [
    "a = \"\"\"\n",
    "Learn Python\n",
    "Programming\n",
    "At my channel\n",
    "\"\"\""
   ]
  },
  {
   "cell_type": "code",
   "execution_count": 4,
   "id": "f8f02ea4",
   "metadata": {},
   "outputs": [
    {
     "name": "stdout",
     "output_type": "stream",
     "text": [
      "\n",
      "Learn Python\n",
      "Programming\n",
      "At my channel\n",
      "\n"
     ]
    }
   ],
   "source": [
    "print(a)"
   ]
  },
  {
   "cell_type": "markdown",
   "id": "139e2faf",
   "metadata": {},
   "source": [
    "# Strings are Arrays\n",
    "Like many other popular programming languages, strings in Python are arrays of bytes representing unicode characters."
   ]
  },
  {
   "cell_type": "markdown",
   "id": "1a40abc9",
   "metadata": {},
   "source": [
    "# Example\n",
    "Get the character at position 1 (remember that the first character has the position 0):"
   ]
  },
  {
   "cell_type": "code",
   "execution_count": 6,
   "id": "2f6ab75b",
   "metadata": {},
   "outputs": [
    {
     "name": "stdout",
     "output_type": "stream",
     "text": [
      "o\n"
     ]
    }
   ],
   "source": [
    "a = \"Hello, World!\"\n",
    "print(a[4])"
   ]
  },
  {
   "cell_type": "markdown",
   "id": "da48dd79",
   "metadata": {},
   "source": [
    "# String Length\n",
    "To get the length of a string, use the len() function."
   ]
  },
  {
   "cell_type": "code",
   "execution_count": 7,
   "id": "d1d5a51b",
   "metadata": {},
   "outputs": [
    {
     "name": "stdout",
     "output_type": "stream",
     "text": [
      "13\n"
     ]
    }
   ],
   "source": [
    "a = \"Hello, World!\"\n",
    "print(len(a))"
   ]
  },
  {
   "cell_type": "markdown",
   "id": "c6800c51",
   "metadata": {},
   "source": [
    "# Check String\n",
    "To check if a certain phrase or character is present in a string, we can use the keyword in."
   ]
  },
  {
   "cell_type": "code",
   "execution_count": 8,
   "id": "72c45fa0",
   "metadata": {},
   "outputs": [
    {
     "name": "stdout",
     "output_type": "stream",
     "text": [
      "True\n"
     ]
    }
   ],
   "source": [
    "txt = \"The best things in life are free!\"\n",
    "print(\"free\" in txt)"
   ]
  },
  {
   "cell_type": "code",
   "execution_count": 9,
   "id": "2ebe444a",
   "metadata": {},
   "outputs": [
    {
     "name": "stdout",
     "output_type": "stream",
     "text": [
      "False\n"
     ]
    }
   ],
   "source": [
    "txt = \"The best things in life are free!\"\n",
    "print(\"channel\" in txt)"
   ]
  },
  {
   "cell_type": "markdown",
   "id": "4525bbd3",
   "metadata": {},
   "source": [
    "# 2 Python - Slicing Strings"
   ]
  },
  {
   "cell_type": "markdown",
   "id": "c7bfa212",
   "metadata": {},
   "source": [
    "# Slicing\n",
    "You can return a range of characters by using the slice syntax.\n",
    "\n",
    "Specify the start index and the end index, separated by a colon, to return a part of the string."
   ]
  },
  {
   "cell_type": "markdown",
   "id": "f5fc5149",
   "metadata": {},
   "source": [
    "# Example\n",
    "Get the characters from position 2 to position 5 (not included):"
   ]
  },
  {
   "cell_type": "code",
   "execution_count": 10,
   "id": "4cd0fb66",
   "metadata": {},
   "outputs": [
    {
     "name": "stdout",
     "output_type": "stream",
     "text": [
      "llo\n"
     ]
    }
   ],
   "source": [
    "b = \"Hello, World!\"\n",
    "print(b[2:5])"
   ]
  },
  {
   "cell_type": "markdown",
   "id": "0cde6f14",
   "metadata": {},
   "source": [
    "# Slice From the Start\n",
    "By leaving out the start index, the range will start at the first character:"
   ]
  },
  {
   "cell_type": "markdown",
   "id": "cd3d4128",
   "metadata": {},
   "source": [
    "# Example\n",
    "Get the characters from the start to position 5 (not included):"
   ]
  },
  {
   "cell_type": "code",
   "execution_count": 11,
   "id": "4348fbd6",
   "metadata": {},
   "outputs": [
    {
     "name": "stdout",
     "output_type": "stream",
     "text": [
      "Hello\n"
     ]
    }
   ],
   "source": [
    "b = \"Hello, World!\"\n",
    "print(b[0:5])"
   ]
  },
  {
   "cell_type": "markdown",
   "id": "c8392d41",
   "metadata": {},
   "source": [
    "# Slice To the End\n",
    "By leaving out the end index, the range will go to the end:"
   ]
  },
  {
   "cell_type": "markdown",
   "id": "efb80814",
   "metadata": {},
   "source": [
    "# Example\n",
    "Get the characters from position 2, and all the way to the end:"
   ]
  },
  {
   "cell_type": "code",
   "execution_count": 12,
   "id": "53c168c3",
   "metadata": {},
   "outputs": [
    {
     "name": "stdout",
     "output_type": "stream",
     "text": [
      "llo, World!\n"
     ]
    }
   ],
   "source": [
    "b = \"Hello, World!\"\n",
    "print(b[2:])"
   ]
  },
  {
   "cell_type": "markdown",
   "id": "349ba12d",
   "metadata": {},
   "source": [
    "# Negative Indexing\n",
    "Use negative indexes to start the slice from the end of the string:"
   ]
  },
  {
   "cell_type": "code",
   "execution_count": 13,
   "id": "2f469fe4",
   "metadata": {},
   "outputs": [
    {
     "name": "stdout",
     "output_type": "stream",
     "text": [
      "lo\n"
     ]
    }
   ],
   "source": [
    "mystr = \"Hello\"\n",
    "print(mystr[-2:])"
   ]
  },
  {
   "cell_type": "code",
   "execution_count": 14,
   "id": "467906d4",
   "metadata": {},
   "outputs": [
    {
     "name": "stdout",
     "output_type": "stream",
     "text": [
      "He\n"
     ]
    }
   ],
   "source": [
    "mystr = \"Hello\"\n",
    "print(mystr[0:-3])"
   ]
  },
  {
   "cell_type": "markdown",
   "id": "6976abfd",
   "metadata": {},
   "source": [
    "# 3 Python - Modify Strings\n",
    "Python has a set of built-in methods that you can use on strings."
   ]
  },
  {
   "cell_type": "markdown",
   "id": "edea72f2",
   "metadata": {},
   "source": [
    "# Upper Case"
   ]
  },
  {
   "cell_type": "markdown",
   "id": "dd01dd41",
   "metadata": {},
   "source": [
    "# Example\n",
    "The upper() method returns the string in upper case:"
   ]
  },
  {
   "cell_type": "code",
   "execution_count": 15,
   "id": "a195fc85",
   "metadata": {},
   "outputs": [
    {
     "data": {
      "text/plain": [
       "'HELLO, WORLD!'"
      ]
     },
     "execution_count": 15,
     "metadata": {},
     "output_type": "execute_result"
    }
   ],
   "source": [
    "a = \"Hello, World!\"\n",
    "a.upper()"
   ]
  },
  {
   "cell_type": "markdown",
   "id": "5f346201",
   "metadata": {},
   "source": [
    "# Lower Case\n",
    "# Example\n",
    "The lower() method returns the string in lower case:"
   ]
  },
  {
   "cell_type": "code",
   "execution_count": 16,
   "id": "aa7ff201",
   "metadata": {},
   "outputs": [
    {
     "data": {
      "text/plain": [
       "'hello, world!'"
      ]
     },
     "execution_count": 16,
     "metadata": {},
     "output_type": "execute_result"
    }
   ],
   "source": [
    "a = \"Hello, World!\"\n",
    "a.lower()"
   ]
  },
  {
   "cell_type": "markdown",
   "id": "d0317d88",
   "metadata": {},
   "source": [
    "# Remove Whitespace\n",
    "Whitespace is the space before and/or after the actual text, and very often you want to remove this space.\n",
    "\n",
    "# Example\n",
    "The strip() method removes any whitespace from the beginning or the end:"
   ]
  },
  {
   "cell_type": "code",
   "execution_count": 18,
   "id": "0f8c75ad",
   "metadata": {},
   "outputs": [
    {
     "data": {
      "text/plain": [
       "'Hello, World!'"
      ]
     },
     "execution_count": 18,
     "metadata": {},
     "output_type": "execute_result"
    }
   ],
   "source": [
    "a = \" Hello, World!   \"\n",
    "a.strip()              # returns \"Hello, World!\"\n"
   ]
  },
  {
   "cell_type": "markdown",
   "id": "174c9725",
   "metadata": {},
   "source": [
    "# Split String\n",
    "The split() method returns a list where the text between the specified separator becomes the list items.\n",
    "\n",
    "# Example\n",
    "The split() method splits the string into substrings if it finds instances of the separator:"
   ]
  },
  {
   "cell_type": "code",
   "execution_count": 19,
   "id": "c65763ba",
   "metadata": {},
   "outputs": [
    {
     "data": {
      "text/plain": [
       "['Hello', ' World!']"
      ]
     },
     "execution_count": 19,
     "metadata": {},
     "output_type": "execute_result"
    }
   ],
   "source": [
    "a = \"Hello, World!\"\n",
    "a.split(\",\") # returns ['Hello', ' World!']"
   ]
  },
  {
   "cell_type": "markdown",
   "id": "dc20a08e",
   "metadata": {},
   "source": [
    "# Python String capitalize() Method\n",
    "# Example\n",
    "Upper case the first letter in this sentence:"
   ]
  },
  {
   "cell_type": "code",
   "execution_count": 20,
   "id": "0e523474",
   "metadata": {},
   "outputs": [
    {
     "name": "stdout",
     "output_type": "stream",
     "text": [
      "Hello, and welcome to my world.\n"
     ]
    }
   ],
   "source": [
    "txt = \"hello, and welcome to my world.\"\n",
    "\n",
    "x = txt.capitalize()\n",
    "\n",
    "print (x)"
   ]
  },
  {
   "cell_type": "markdown",
   "id": "e0e3f666",
   "metadata": {},
   "source": [
    "# Python String center() Method\n",
    "# Example\n",
    "Print the word \"banana\", taking up the space of 20 characters, with \"banana\" in the middle:"
   ]
  },
  {
   "cell_type": "code",
   "execution_count": 21,
   "id": "4b3e2740",
   "metadata": {},
   "outputs": [
    {
     "name": "stdout",
     "output_type": "stream",
     "text": [
      "       banana       \n"
     ]
    }
   ],
   "source": [
    "txt = \"banana\"\n",
    "\n",
    "x = txt.center(20)\n",
    "\n",
    "print(x)"
   ]
  },
  {
   "cell_type": "markdown",
   "id": "91cfe299",
   "metadata": {},
   "source": [
    "# Python String count() Method\n",
    "# Example\n",
    "Return the number of times the value \"apple\" appears in the string:"
   ]
  },
  {
   "cell_type": "code",
   "execution_count": 23,
   "id": "74a93643",
   "metadata": {},
   "outputs": [
    {
     "data": {
      "text/plain": [
       "1"
      ]
     },
     "execution_count": 23,
     "metadata": {},
     "output_type": "execute_result"
    }
   ],
   "source": [
    "txt = \"I love apples, apple are my favorite fruit\"\n",
    "\n",
    "txt.count('apples')"
   ]
  },
  {
   "cell_type": "markdown",
   "id": "f7a2ba6e",
   "metadata": {},
   "source": [
    "# Python String index() Method\n",
    "# Example\n",
    "Where in the text is the word \"welcome\"?:"
   ]
  },
  {
   "cell_type": "code",
   "execution_count": 24,
   "id": "7a0d3c25",
   "metadata": {},
   "outputs": [
    {
     "data": {
      "text/plain": [
       "15"
      ]
     },
     "execution_count": 24,
     "metadata": {},
     "output_type": "execute_result"
    }
   ],
   "source": [
    "txt = \"Hello, welcome to my world.\"\n",
    "txt.index('to')"
   ]
  },
  {
   "cell_type": "markdown",
   "id": "17cad226",
   "metadata": {},
   "source": [
    "# Python String casefold() Method\n",
    "# Example\n",
    "Make the string lower case:"
   ]
  },
  {
   "cell_type": "code",
   "execution_count": 25,
   "id": "f2cefb15",
   "metadata": {},
   "outputs": [
    {
     "data": {
      "text/plain": [
       "'hello, and welcome to my world!'"
      ]
     },
     "execution_count": 25,
     "metadata": {},
     "output_type": "execute_result"
    }
   ],
   "source": [
    "txt = \"Hello, And Welcome To My World!\"\n",
    "txt.casefold()\n"
   ]
  },
  {
   "cell_type": "markdown",
   "id": "e9e37452",
   "metadata": {},
   "source": [
    "# Python String endswith() Method\n",
    "# Example\n",
    "Check if the string ends with a punctuation sign (.):"
   ]
  },
  {
   "cell_type": "code",
   "execution_count": 26,
   "id": "88093354",
   "metadata": {},
   "outputs": [
    {
     "data": {
      "text/plain": [
       "True"
      ]
     },
     "execution_count": 26,
     "metadata": {},
     "output_type": "execute_result"
    }
   ],
   "source": [
    "txt = \"Hello, welcome to my world.\"\n",
    "txt.endswith('.')\n"
   ]
  },
  {
   "cell_type": "code",
   "execution_count": 27,
   "id": "5e6fff21",
   "metadata": {},
   "outputs": [
    {
     "data": {
      "text/plain": [
       "False"
      ]
     },
     "execution_count": 27,
     "metadata": {},
     "output_type": "execute_result"
    }
   ],
   "source": [
    "txt = \"Hello, welcome to my world.\"\n",
    "txt.endswith('txt')\n"
   ]
  },
  {
   "cell_type": "markdown",
   "id": "7e22382e",
   "metadata": {},
   "source": [
    "# Python String isalnum() Method\n",
    "# Example\n",
    "Check if all the characters in the text are alphanumeric:"
   ]
  },
  {
   "cell_type": "code",
   "execution_count": 28,
   "id": "1b925b09",
   "metadata": {},
   "outputs": [
    {
     "data": {
      "text/plain": [
       "True"
      ]
     },
     "execution_count": 28,
     "metadata": {},
     "output_type": "execute_result"
    }
   ],
   "source": [
    "txt = \"Company12\"\n",
    "txt.isalnum()"
   ]
  },
  {
   "cell_type": "code",
   "execution_count": 29,
   "id": "95c25a5a",
   "metadata": {},
   "outputs": [
    {
     "data": {
      "text/plain": [
       "True"
      ]
     },
     "execution_count": 29,
     "metadata": {},
     "output_type": "execute_result"
    }
   ],
   "source": [
    "txt = \"Company\"\n",
    "txt.isalnum()"
   ]
  },
  {
   "cell_type": "markdown",
   "id": "aa4dc1bd",
   "metadata": {},
   "source": [
    "# Python String isalpha() Method\n",
    "# Example\n",
    "Check if all the characters in the text are letters:"
   ]
  },
  {
   "cell_type": "code",
   "execution_count": 31,
   "id": "a99c565d",
   "metadata": {},
   "outputs": [
    {
     "data": {
      "text/plain": [
       "False"
      ]
     },
     "execution_count": 31,
     "metadata": {},
     "output_type": "execute_result"
    }
   ],
   "source": [
    "txt = \"CompanyX1\"\n",
    "txt.isalpha()\n"
   ]
  },
  {
   "cell_type": "markdown",
   "id": "c11da82f",
   "metadata": {},
   "source": [
    "# Python String isdigit() Method\n",
    "# Example\n",
    "\n",
    "Check if all the characters in the text are digits:"
   ]
  },
  {
   "cell_type": "code",
   "execution_count": 32,
   "id": "6fbae7f9",
   "metadata": {},
   "outputs": [
    {
     "data": {
      "text/plain": [
       "True"
      ]
     },
     "execution_count": 32,
     "metadata": {},
     "output_type": "execute_result"
    }
   ],
   "source": [
    "txt = \"50800\"\n",
    "txt.isdigit()\n"
   ]
  },
  {
   "cell_type": "markdown",
   "id": "43cd2c3a",
   "metadata": {},
   "source": [
    "# Python String islower() Method\n",
    "# Example\n",
    "Check if all the characters in the text are in lower case:"
   ]
  },
  {
   "cell_type": "code",
   "execution_count": 33,
   "id": "b07e890f",
   "metadata": {},
   "outputs": [
    {
     "data": {
      "text/plain": [
       "True"
      ]
     },
     "execution_count": 33,
     "metadata": {},
     "output_type": "execute_result"
    }
   ],
   "source": [
    "txt = \"hello world!\"\n",
    "txt.islower()"
   ]
  },
  {
   "cell_type": "code",
   "execution_count": 34,
   "id": "f0957fc6",
   "metadata": {},
   "outputs": [
    {
     "data": {
      "text/plain": [
       "False"
      ]
     },
     "execution_count": 34,
     "metadata": {},
     "output_type": "execute_result"
    }
   ],
   "source": [
    "txt = \"hello World!\"\n",
    "txt.islower()"
   ]
  },
  {
   "cell_type": "raw",
   "id": "06352b19",
   "metadata": {},
   "source": [
    "a = \"Hello world!\"\n",
    "b = \"hello 123\"\n",
    "c = \"mynameisPeter\"\n",
    "\n",
    "print(a.islower())\n",
    "print(b.islower())\n",
    "print(c.islower())"
   ]
  },
  {
   "cell_type": "markdown",
   "id": "8def22c7",
   "metadata": {},
   "source": [
    "# Python String istitle() Method\n",
    "# Example\n",
    "Check if each word start with an upper case letter:"
   ]
  },
  {
   "cell_type": "code",
   "execution_count": 35,
   "id": "efa0bbc2",
   "metadata": {},
   "outputs": [
    {
     "data": {
      "text/plain": [
       "True"
      ]
     },
     "execution_count": 35,
     "metadata": {},
     "output_type": "execute_result"
    }
   ],
   "source": [
    "txt = \"Hello, And Welcome To My World!\"\n",
    "txt.istitle()"
   ]
  },
  {
   "cell_type": "code",
   "execution_count": 36,
   "id": "5889e941",
   "metadata": {},
   "outputs": [
    {
     "data": {
      "text/plain": [
       "False"
      ]
     },
     "execution_count": 36,
     "metadata": {},
     "output_type": "execute_result"
    }
   ],
   "source": [
    "txt = \"hello, And Welcome To My World!\"\n",
    "txt.istitle()"
   ]
  },
  {
   "cell_type": "markdown",
   "id": "7faaa174",
   "metadata": {},
   "source": [
    "# Python String isupper() Method\n",
    "# Example\n",
    "Check if all the characters in the text are in upper case:"
   ]
  },
  {
   "cell_type": "code",
   "execution_count": 37,
   "id": "6ad5c98e",
   "metadata": {},
   "outputs": [
    {
     "data": {
      "text/plain": [
       "True"
      ]
     },
     "execution_count": 37,
     "metadata": {},
     "output_type": "execute_result"
    }
   ],
   "source": [
    "txt = \"THIS IS NOW!\"\n",
    "txt.isupper()"
   ]
  },
  {
   "cell_type": "code",
   "execution_count": 38,
   "id": "8d422a69",
   "metadata": {},
   "outputs": [
    {
     "data": {
      "text/plain": [
       "False"
      ]
     },
     "execution_count": 38,
     "metadata": {},
     "output_type": "execute_result"
    }
   ],
   "source": [
    "txt = \"THIS IS now!\"\n",
    "txt.isupper()"
   ]
  },
  {
   "cell_type": "markdown",
   "id": "ca07d085",
   "metadata": {},
   "source": [
    "# Python String replace() Method\n",
    "# Example\n",
    "Replace the word \"bananas\":"
   ]
  },
  {
   "cell_type": "code",
   "execution_count": 39,
   "id": "b3951c1a",
   "metadata": {},
   "outputs": [
    {
     "data": {
      "text/plain": [
       "'I like apple'"
      ]
     },
     "execution_count": 39,
     "metadata": {},
     "output_type": "execute_result"
    }
   ],
   "source": [
    "txt = \"I like bananas\"\n",
    "txt.replace('bananas','apple')\n"
   ]
  },
  {
   "cell_type": "markdown",
   "id": "b18642cd",
   "metadata": {},
   "source": [
    "# Python String rsplit() Method\n",
    "# Example\n",
    "Split a string into a list, using comma, followed by a space (, ) as the separator:\n",
    "\n"
   ]
  },
  {
   "cell_type": "code",
   "execution_count": 40,
   "id": "772ed8e7",
   "metadata": {},
   "outputs": [
    {
     "data": {
      "text/plain": [
       "['apple,', 'banana,', 'cherry']"
      ]
     },
     "execution_count": 40,
     "metadata": {},
     "output_type": "execute_result"
    }
   ],
   "source": [
    "txt = \"apple, banana, cherry\"\n",
    "txt.rsplit()\n"
   ]
  },
  {
   "cell_type": "markdown",
   "id": "adbb3310",
   "metadata": {},
   "source": [
    "# Python String zfill() Method\n",
    "\n",
    "# Example\n",
    "Fill the string with zeros until it is 10 characters long:\n",
    "\n"
   ]
  },
  {
   "cell_type": "code",
   "execution_count": 41,
   "id": "201ce60a",
   "metadata": {},
   "outputs": [
    {
     "name": "stdout",
     "output_type": "stream",
     "text": [
      "0000000050\n"
     ]
    }
   ],
   "source": [
    "txt = \"50\"\n",
    "\n",
    "x = txt.zfill(10) #0000000050\n",
    "\n",
    "print(x)"
   ]
  },
  {
   "cell_type": "markdown",
   "id": "2ca23eb3",
   "metadata": {},
   "source": [
    "# Exercise:\n",
    "creat a list and convert into upper case also Use the len method to print the length of the string..\n",
    "\n",
    "\n",
    "\n",
    "\n"
   ]
  },
  {
   "cell_type": "markdown",
   "id": "4d6fbf60",
   "metadata": {},
   "source": [
    "\n"
   ]
  },
  {
   "cell_type": "code",
   "execution_count": null,
   "id": "0e8fea32",
   "metadata": {},
   "outputs": [],
   "source": []
  }
 ],
 "metadata": {
  "kernelspec": {
   "display_name": "Python 3 (ipykernel)",
   "language": "python",
   "name": "python3"
  },
  "language_info": {
   "codemirror_mode": {
    "name": "ipython",
    "version": 3
   },
   "file_extension": ".py",
   "mimetype": "text/x-python",
   "name": "python",
   "nbconvert_exporter": "python",
   "pygments_lexer": "ipython3",
   "version": "3.10.9"
  }
 },
 "nbformat": 4,
 "nbformat_minor": 5
}
