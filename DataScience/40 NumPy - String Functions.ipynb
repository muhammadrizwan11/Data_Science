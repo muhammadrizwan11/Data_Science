{
 "cells": [
  {
   "cell_type": "markdown",
   "id": "ad829c0e",
   "metadata": {},
   "source": [
    "# NumPy - String Functions\n"
   ]
  },
  {
   "cell_type": "code",
   "execution_count": 1,
   "id": "4ff7e7e2",
   "metadata": {},
   "outputs": [],
   "source": [
    "import numpy as np"
   ]
  },
  {
   "cell_type": "markdown",
   "id": "7f84b292",
   "metadata": {},
   "source": [
    "# numpy.char.add()"
   ]
  },
  {
   "cell_type": "code",
   "execution_count": 3,
   "id": "a3ff34d7",
   "metadata": {},
   "outputs": [
    {
     "name": "stdout",
     "output_type": "stream",
     "text": [
      "['Hellow Python']\n"
     ]
    }
   ],
   "source": [
    "a = ['Hellow ']\n",
    "b = ['Python']\n",
    "print(np.char.add(a,b))"
   ]
  },
  {
   "cell_type": "markdown",
   "id": "1a1f3a4e",
   "metadata": {},
   "source": [
    "# numpy.char.multiply()"
   ]
  },
  {
   "cell_type": "code",
   "execution_count": 5,
   "id": "3ad3ab66",
   "metadata": {},
   "outputs": [
    {
     "name": "stdout",
     "output_type": "stream",
     "text": [
      "['Hellow Hellow Hellow Hellow Hellow Hellow Hellow ']\n"
     ]
    }
   ],
   "source": [
    "a = ['Hellow ']\n",
    "print(np.char.multiply(a,7))"
   ]
  },
  {
   "cell_type": "markdown",
   "id": "63f52cd5",
   "metadata": {},
   "source": [
    "# numpy.char.capitalize()"
   ]
  },
  {
   "cell_type": "code",
   "execution_count": 6,
   "id": "6a145e14",
   "metadata": {},
   "outputs": [
    {
     "name": "stdout",
     "output_type": "stream",
     "text": [
      "['Hellow python']\n"
     ]
    }
   ],
   "source": [
    "c = ['hellow python']\n",
    "print(np.char.capitalize(c))"
   ]
  },
  {
   "cell_type": "markdown",
   "id": "71aafb6d",
   "metadata": {},
   "source": [
    "# numpy.char.title()"
   ]
  },
  {
   "cell_type": "code",
   "execution_count": 7,
   "id": "009d667a",
   "metadata": {},
   "outputs": [
    {
     "name": "stdout",
     "output_type": "stream",
     "text": [
      "['Hellow Python']\n"
     ]
    }
   ],
   "source": [
    "c = ['hellow python']\n",
    "print(np.char.title(c))"
   ]
  },
  {
   "cell_type": "markdown",
   "id": "5927e757",
   "metadata": {},
   "source": [
    "# numpy.char.upper()"
   ]
  },
  {
   "cell_type": "code",
   "execution_count": 8,
   "id": "d3ff1ae7",
   "metadata": {},
   "outputs": [
    {
     "name": "stdout",
     "output_type": "stream",
     "text": [
      "['HELLOW PYTHON']\n"
     ]
    }
   ],
   "source": [
    "c = ['hellow python']\n",
    "print(np.char.upper(c))"
   ]
  },
  {
   "cell_type": "markdown",
   "id": "34b61a74",
   "metadata": {},
   "source": [
    "# numpy.char.lower()"
   ]
  },
  {
   "cell_type": "code",
   "execution_count": 9,
   "id": "70c81cbd",
   "metadata": {},
   "outputs": [
    {
     "name": "stdout",
     "output_type": "stream",
     "text": [
      "['hellow python']\n"
     ]
    }
   ],
   "source": [
    "b = ['HELLOW PYTHON']\n",
    "print(np.char.lower(b))"
   ]
  },
  {
   "cell_type": "code",
   "execution_count": null,
   "id": "2d663b30",
   "metadata": {},
   "outputs": [],
   "source": []
  }
 ],
 "metadata": {
  "kernelspec": {
   "display_name": "Python 3 (ipykernel)",
   "language": "python",
   "name": "python3"
  },
  "language_info": {
   "codemirror_mode": {
    "name": "ipython",
    "version": 3
   },
   "file_extension": ".py",
   "mimetype": "text/x-python",
   "name": "python",
   "nbconvert_exporter": "python",
   "pygments_lexer": "ipython3",
   "version": "3.10.9"
  }
 },
 "nbformat": 4,
 "nbformat_minor": 5
}
