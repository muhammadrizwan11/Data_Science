{
 "cells": [
  {
   "cell_type": "markdown",
   "id": "4e2fa818",
   "metadata": {},
   "source": [
    "# NumPy – Arithmetic Operations"
   ]
  },
  {
   "cell_type": "code",
   "execution_count": null,
   "id": "4f71cdcb",
   "metadata": {},
   "outputs": [],
   "source": []
  },
  {
   "cell_type": "markdown",
   "id": "3279f968",
   "metadata": {},
   "source": [
    "# Addition"
   ]
  },
  {
   "cell_type": "code",
   "execution_count": 1,
   "id": "72013733",
   "metadata": {},
   "outputs": [
    {
     "name": "stdout",
     "output_type": "stream",
     "text": [
      "[1 2 3 4]\n",
      "\n",
      "[4 5 6 7]\n"
     ]
    }
   ],
   "source": [
    "import numpy as np\n",
    "a = np.array([1,2,3,4])\n",
    "b = np.array([6,7,8,9])\n",
    "\n",
    "c = a+3\n",
    "print(a)\n",
    "print()\n",
    "print(c)"
   ]
  },
  {
   "cell_type": "code",
   "execution_count": 2,
   "id": "a6c5bca6",
   "metadata": {},
   "outputs": [
    {
     "name": "stdout",
     "output_type": "stream",
     "text": [
      "[ 7  9 11 13]\n"
     ]
    }
   ],
   "source": [
    "a = np.array([1,2,3,4])\n",
    "b = np.array([6,7,8,9])\n",
    "c = a+b\n",
    "print(c)"
   ]
  },
  {
   "cell_type": "code",
   "execution_count": 3,
   "id": "90685422",
   "metadata": {},
   "outputs": [
    {
     "name": "stdout",
     "output_type": "stream",
     "text": [
      "[ 7  9 11 13]\n"
     ]
    }
   ],
   "source": [
    "a = np.array([1,2,3,4])\n",
    "b = np.array([6,7,8,9])\n",
    "c = np.add(a,b)\n",
    "print(c)"
   ]
  },
  {
   "cell_type": "markdown",
   "id": "96755b81",
   "metadata": {},
   "source": [
    "# Subtraction"
   ]
  },
  {
   "cell_type": "code",
   "execution_count": 4,
   "id": "4688e143",
   "metadata": {},
   "outputs": [
    {
     "name": "stdout",
     "output_type": "stream",
     "text": [
      "[5 2 2 5]\n"
     ]
    }
   ],
   "source": [
    "a = np.array([1,2,3,4])\n",
    "b = np.array([6,4,5,9])\n",
    "c1 = b - a\n",
    "print(c1)"
   ]
  },
  {
   "cell_type": "code",
   "execution_count": 5,
   "id": "f9f71ef6",
   "metadata": {},
   "outputs": [
    {
     "name": "stdout",
     "output_type": "stream",
     "text": [
      "[5 2 2 5]\n"
     ]
    }
   ],
   "source": [
    "a = np.array([1,2,3,4])\n",
    "b = np.array([6,4,5,9])\n",
    "c1  = np.subtract(b,a)\n",
    "print(c1)"
   ]
  },
  {
   "cell_type": "markdown",
   "id": "caa32c4f",
   "metadata": {},
   "source": [
    "# Multiplication"
   ]
  },
  {
   "cell_type": "code",
   "execution_count": 6,
   "id": "d7b31f30",
   "metadata": {},
   "outputs": [
    {
     "name": "stdout",
     "output_type": "stream",
     "text": [
      "[2 4 6 8]\n"
     ]
    }
   ],
   "source": [
    "a = np.array([1,2,3,4])\n",
    "c2  = a*2\n",
    "print(c2)"
   ]
  },
  {
   "cell_type": "code",
   "execution_count": 7,
   "id": "800a3d26",
   "metadata": {},
   "outputs": [
    {
     "name": "stdout",
     "output_type": "stream",
     "text": [
      "[ 6  8 15 36]\n"
     ]
    }
   ],
   "source": [
    "a = np.array([1,2,3,4])\n",
    "b = np.array([6,4,5,9])\n",
    "c2 = a*b\n",
    "print(c2)"
   ]
  },
  {
   "cell_type": "code",
   "execution_count": 8,
   "id": "b05d6069",
   "metadata": {},
   "outputs": [
    {
     "name": "stdout",
     "output_type": "stream",
     "text": [
      "[ 6  8 15 36]\n"
     ]
    }
   ],
   "source": [
    "a = np.array([1,2,3,4])\n",
    "b = np.array([6,4,5,9])\n",
    "c2  = np.multiply(a,b)\n",
    "print(c2)"
   ]
  },
  {
   "cell_type": "markdown",
   "id": "09509191",
   "metadata": {},
   "source": [
    "# Division"
   ]
  },
  {
   "cell_type": "code",
   "execution_count": 9,
   "id": "c08f0846",
   "metadata": {},
   "outputs": [
    {
     "name": "stdout",
     "output_type": "stream",
     "text": [
      "[6.         2.         1.66666667 2.25      ]\n"
     ]
    }
   ],
   "source": [
    "a = np.array([1,2,3,4])\n",
    "b = np.array([6,4,5,9])\n",
    "c3 = b/a\n",
    "print(c3)"
   ]
  },
  {
   "cell_type": "code",
   "execution_count": 10,
   "id": "3a14b819",
   "metadata": {},
   "outputs": [
    {
     "name": "stdout",
     "output_type": "stream",
     "text": [
      "[6.         2.         1.66666667 2.25      ]\n"
     ]
    }
   ],
   "source": [
    "a = np.array([1,2,3,4])\n",
    "b = np.array([6,4,5,9])\n",
    "c3  = np.divide(b,a)\n",
    "print(c3)"
   ]
  },
  {
   "cell_type": "markdown",
   "id": "51718a73",
   "metadata": {},
   "source": [
    "# Power"
   ]
  },
  {
   "cell_type": "code",
   "execution_count": 11,
   "id": "dc4fefb4",
   "metadata": {},
   "outputs": [
    {
     "name": "stdout",
     "output_type": "stream",
     "text": [
      "[   6   16  125 6561]\n"
     ]
    }
   ],
   "source": [
    "a = np.array([1,2,3,4])\n",
    "b = np.array([6,4,5,9])\n",
    "c4  = np.power(b,a)\n",
    "print(c4)"
   ]
  },
  {
   "cell_type": "markdown",
   "id": "09d23106",
   "metadata": {},
   "source": [
    "# Remainder"
   ]
  },
  {
   "cell_type": "code",
   "execution_count": 12,
   "id": "30368953",
   "metadata": {},
   "outputs": [
    {
     "name": "stdout",
     "output_type": "stream",
     "text": [
      "[1 0 2 1]\n"
     ]
    }
   ],
   "source": [
    "a = np.array([2,2,3,4])\n",
    "b = np.array([7,4,5,9])\n",
    "c5  = np.remainder(b,a)\n",
    "print(c5)"
   ]
  },
  {
   "cell_type": "markdown",
   "id": "5e73cf82",
   "metadata": {},
   "source": [
    "# Absolute Values"
   ]
  },
  {
   "cell_type": "code",
   "execution_count": 13,
   "id": "5ca80d69",
   "metadata": {},
   "outputs": [
    {
     "name": "stdout",
     "output_type": "stream",
     "text": [
      "[1 2 4 6 8 6 7 8 9]\n"
     ]
    }
   ],
   "source": [
    "x = np.array([-1,-2,-4,-6,-8,6,7,8,9])\n",
    "z = np.absolute(x)\n",
    "print(z)\n"
   ]
  },
  {
   "cell_type": "markdown",
   "id": "88a07db8",
   "metadata": {},
   "source": [
    "# 2D Array"
   ]
  },
  {
   "cell_type": "code",
   "execution_count": 14,
   "id": "0ac4b29b",
   "metadata": {},
   "outputs": [
    {
     "name": "stdout",
     "output_type": "stream",
     "text": [
      "[[1 2 3 4]\n",
      " [1 2 3 4]]\n",
      "\n",
      "[[6 7 8 9]\n",
      " [1 2 3 4]]\n",
      "\n",
      "[[ 7  9 11 13]\n",
      " [ 2  4  6  8]]\n"
     ]
    }
   ],
   "source": [
    "a = np.array([[1,2,3,4],[1,2,3,4]])\n",
    "b = np.array([[6,7,8,9],[1,2,3,4]])\n",
    "print(a)\n",
    "print()\n",
    "print(b)\n",
    "print()\n",
    "print(a+b)"
   ]
  },
  {
   "cell_type": "code",
   "execution_count": 15,
   "id": "83785860",
   "metadata": {},
   "outputs": [
    {
     "name": "stdout",
     "output_type": "stream",
     "text": [
      "[[1 2 3 4]\n",
      " [1 2 3 4]]\n",
      "\n",
      "[[6 7 8 9]\n",
      " [1 2 3 4]]\n",
      "\n",
      "[[-5 -5 -5 -5]\n",
      " [ 0  0  0  0]]\n"
     ]
    }
   ],
   "source": [
    "a = np.array([[1,2,3,4],[1,2,3,4]])\n",
    "b = np.array([[6,7,8,9],[1,2,3,4]])\n",
    "print(a)\n",
    "print()\n",
    "print(b)\n",
    "print()\n",
    "print(a-b)"
   ]
  },
  {
   "cell_type": "code",
   "execution_count": 16,
   "id": "ab6e4b88",
   "metadata": {},
   "outputs": [
    {
     "name": "stdout",
     "output_type": "stream",
     "text": [
      "[[1 2 3 4]\n",
      " [1 2 3 4]]\n",
      "\n",
      "[[6 7 8 9]\n",
      " [1 2 3 4]]\n",
      "\n",
      "[[0.16666667 0.28571429 0.375      0.44444444]\n",
      " [1.         1.         1.         1.        ]]\n"
     ]
    }
   ],
   "source": [
    "a = np.array([[1,2,3,4],[1,2,3,4]])\n",
    "b = np.array([[6,7,8,9],[1,2,3,4]])\n",
    "print(a)\n",
    "print()\n",
    "print(b)\n",
    "print()\n",
    "print(np.divide(a,b))"
   ]
  },
  {
   "cell_type": "code",
   "execution_count": 17,
   "id": "2db4deb8",
   "metadata": {},
   "outputs": [
    {
     "name": "stdout",
     "output_type": "stream",
     "text": [
      "[[1 2 3 4]\n",
      " [1 2 3 4]]\n",
      "\n",
      "[[6 7 8 9]\n",
      " [1 2 3 4]]\n",
      "\n",
      "[[ 6 14 24 36]\n",
      " [ 1  4  9 16]]\n"
     ]
    }
   ],
   "source": [
    "a = np.array([[1,2,3,4],[1,2,3,4]])\n",
    "b = np.array([[6,7,8,9],[1,2,3,4]])\n",
    "print(a)\n",
    "print()\n",
    "print(b)\n",
    "print()\n",
    "print(np.multiply(a,b))"
   ]
  },
  {
   "cell_type": "code",
   "execution_count": 21,
   "id": "e4f69300",
   "metadata": {},
   "outputs": [
    {
     "name": "stdout",
     "output_type": "stream",
     "text": [
      "1 0\n",
      "4 3\n"
     ]
    }
   ],
   "source": [
    "a = np.array([1,2,3,4])\n",
    "print(np.min(a),np.argmin(a))\n",
    "print(np.max(a),np.argmax(a))"
   ]
  },
  {
   "cell_type": "code",
   "execution_count": 27,
   "id": "63ab69a6",
   "metadata": {},
   "outputs": [
    {
     "name": "stdout",
     "output_type": "stream",
     "text": [
      "[3 2]\n"
     ]
    }
   ],
   "source": [
    "a = np.array([[7,7,5,3,8],[6,4,8,2,6]])\n",
    "print(np.min(a,axis = 1))"
   ]
  },
  {
   "cell_type": "code",
   "execution_count": null,
   "id": "42da78d7",
   "metadata": {},
   "outputs": [],
   "source": []
  }
 ],
 "metadata": {
  "kernelspec": {
   "display_name": "Python 3 (ipykernel)",
   "language": "python",
   "name": "python3"
  },
  "language_info": {
   "codemirror_mode": {
    "name": "ipython",
    "version": 3
   },
   "file_extension": ".py",
   "mimetype": "text/x-python",
   "name": "python",
   "nbconvert_exporter": "python",
   "pygments_lexer": "ipython3",
   "version": "3.10.9"
  }
 },
 "nbformat": 4,
 "nbformat_minor": 5
}
